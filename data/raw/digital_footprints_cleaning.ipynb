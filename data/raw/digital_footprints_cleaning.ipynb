{
 "cells": [
  {
   "cell_type": "code",
   "execution_count": 2,
   "metadata": {},
   "outputs": [],
   "source": [
    "import pandas as pd"
   ]
  },
  {
   "cell_type": "code",
   "execution_count": 5,
   "metadata": {},
   "outputs": [],
   "source": [
    "web1 = pd.read_csv('df_final_web_data_pt_1.txt', delimiter=',')\n",
    "\n",
    "# Save the DataFrame to a CSV file\n",
    "web1.to_csv('web_data_1.csv', index=False)\n",
    "            \n",
    "web2 = pd.read_csv('df_final_web_data_pt_2.txt', delimiter=',')\n",
    "\n",
    "# Save the DataFrame to a CSV file\n",
    "web2.to_csv('web_data_2.csv', index=False)"
   ]
  },
  {
   "cell_type": "code",
   "execution_count": 6,
   "metadata": {},
   "outputs": [
    {
     "data": {
      "text/html": [
       "<div>\n",
       "<style scoped>\n",
       "    .dataframe tbody tr th:only-of-type {\n",
       "        vertical-align: middle;\n",
       "    }\n",
       "\n",
       "    .dataframe tbody tr th {\n",
       "        vertical-align: top;\n",
       "    }\n",
       "\n",
       "    .dataframe thead th {\n",
       "        text-align: right;\n",
       "    }\n",
       "</style>\n",
       "<table border=\"1\" class=\"dataframe\">\n",
       "  <thead>\n",
       "    <tr style=\"text-align: right;\">\n",
       "      <th></th>\n",
       "      <th>client_id</th>\n",
       "      <th>visitor_id</th>\n",
       "      <th>visit_id</th>\n",
       "      <th>process_step</th>\n",
       "      <th>date_time</th>\n",
       "    </tr>\n",
       "  </thead>\n",
       "  <tbody>\n",
       "    <tr>\n",
       "      <th>0</th>\n",
       "      <td>763412</td>\n",
       "      <td>601952081_10457207388</td>\n",
       "      <td>397475557_40440946728_419634</td>\n",
       "      <td>confirm</td>\n",
       "      <td>2017-06-06 08:56:00</td>\n",
       "    </tr>\n",
       "    <tr>\n",
       "      <th>1</th>\n",
       "      <td>6019349</td>\n",
       "      <td>442094451_91531546617</td>\n",
       "      <td>154620534_35331068705_522317</td>\n",
       "      <td>confirm</td>\n",
       "      <td>2017-06-01 11:59:27</td>\n",
       "    </tr>\n",
       "    <tr>\n",
       "      <th>2</th>\n",
       "      <td>6019349</td>\n",
       "      <td>442094451_91531546617</td>\n",
       "      <td>154620534_35331068705_522317</td>\n",
       "      <td>step_3</td>\n",
       "      <td>2017-06-01 11:58:48</td>\n",
       "    </tr>\n",
       "    <tr>\n",
       "      <th>3</th>\n",
       "      <td>6019349</td>\n",
       "      <td>442094451_91531546617</td>\n",
       "      <td>154620534_35331068705_522317</td>\n",
       "      <td>step_2</td>\n",
       "      <td>2017-06-01 11:58:08</td>\n",
       "    </tr>\n",
       "    <tr>\n",
       "      <th>4</th>\n",
       "      <td>6019349</td>\n",
       "      <td>442094451_91531546617</td>\n",
       "      <td>154620534_35331068705_522317</td>\n",
       "      <td>step_1</td>\n",
       "      <td>2017-06-01 11:57:58</td>\n",
       "    </tr>\n",
       "  </tbody>\n",
       "</table>\n",
       "</div>"
      ],
      "text/plain": [
       "   client_id             visitor_id                      visit_id  \\\n",
       "0     763412  601952081_10457207388  397475557_40440946728_419634   \n",
       "1    6019349  442094451_91531546617  154620534_35331068705_522317   \n",
       "2    6019349  442094451_91531546617  154620534_35331068705_522317   \n",
       "3    6019349  442094451_91531546617  154620534_35331068705_522317   \n",
       "4    6019349  442094451_91531546617  154620534_35331068705_522317   \n",
       "\n",
       "  process_step            date_time  \n",
       "0      confirm  2017-06-06 08:56:00  \n",
       "1      confirm  2017-06-01 11:59:27  \n",
       "2       step_3  2017-06-01 11:58:48  \n",
       "3       step_2  2017-06-01 11:58:08  \n",
       "4       step_1  2017-06-01 11:57:58  "
      ]
     },
     "execution_count": 6,
     "metadata": {},
     "output_type": "execute_result"
    }
   ],
   "source": [
    "web2.head()"
   ]
  },
  {
   "cell_type": "code",
   "execution_count": 8,
   "metadata": {},
   "outputs": [
    {
     "data": {
      "text/plain": [
       "client_id\n",
       "2128341    84\n",
       "9800867    66\n",
       "9638063    64\n",
       "2313292    61\n",
       "5165430    60\n",
       "           ..\n",
       "3939374     1\n",
       "8477848     1\n",
       "2606984     1\n",
       "5141668     1\n",
       "1266421     1\n",
       "Name: count, Length: 58391, dtype: int64"
      ]
     },
     "execution_count": 8,
     "metadata": {},
     "output_type": "execute_result"
    }
   ],
   "source": [
    "web1['client_id'].value_counts()"
   ]
  },
  {
   "cell_type": "code",
   "execution_count": 9,
   "metadata": {},
   "outputs": [
    {
     "data": {
      "text/plain": [
       "client_id\n",
       "5574879    104\n",
       "2274658     90\n",
       "5951379     80\n",
       "1952790     80\n",
       "3545814     72\n",
       "          ... \n",
       "4220991      1\n",
       "7506474      1\n",
       "7414592      1\n",
       "1156842      1\n",
       "674799       1\n",
       "Name: count, Length: 67430, dtype: int64"
      ]
     },
     "execution_count": 9,
     "metadata": {},
     "output_type": "execute_result"
    }
   ],
   "source": [
    "web2['client_id'].value_counts()"
   ]
  },
  {
   "cell_type": "code",
   "execution_count": 11,
   "metadata": {},
   "outputs": [],
   "source": [
    "#checking if there are shared values in both datasets for the client_id column \n",
    "client_id_check = 'client_id'\n",
    "\n",
    "shared_values = web1[client_id_check].isin(web2[client_id_check])\n",
    "\n",
    "if shared_values.any():\n",
    "    print(\"There are shared values between the datasets in the column\", client_id_check)\n",
    "else: \n",
    "    print(\"There are no shared values between the datasets in the column\", client_id_check)"
   ]
  },
  {
   "cell_type": "code",
   "execution_count": 27,
   "metadata": {},
   "outputs": [],
   "source": [
    "#merging the datasets on client_id column without the values overlapping, just placed next to each other \n",
    "# total_web = pd.merge(web1, web2, on='client_id', how='outer')\n",
    "\n",
    "total_web = pd.concat([web1,web2])"
   ]
  },
  {
   "cell_type": "code",
   "execution_count": 28,
   "metadata": {},
   "outputs": [
    {
     "data": {
      "text/html": [
       "<div>\n",
       "<style scoped>\n",
       "    .dataframe tbody tr th:only-of-type {\n",
       "        vertical-align: middle;\n",
       "    }\n",
       "\n",
       "    .dataframe tbody tr th {\n",
       "        vertical-align: top;\n",
       "    }\n",
       "\n",
       "    .dataframe thead th {\n",
       "        text-align: right;\n",
       "    }\n",
       "</style>\n",
       "<table border=\"1\" class=\"dataframe\">\n",
       "  <thead>\n",
       "    <tr style=\"text-align: right;\">\n",
       "      <th></th>\n",
       "      <th>client_id</th>\n",
       "      <th>visitor_id</th>\n",
       "      <th>visit_id</th>\n",
       "      <th>process_step</th>\n",
       "      <th>date_time</th>\n",
       "    </tr>\n",
       "  </thead>\n",
       "  <tbody>\n",
       "    <tr>\n",
       "      <th>0</th>\n",
       "      <td>9988021</td>\n",
       "      <td>580560515_7732621733</td>\n",
       "      <td>781255054_21935453173_531117</td>\n",
       "      <td>step_3</td>\n",
       "      <td>2017-04-17 15:27:07</td>\n",
       "    </tr>\n",
       "    <tr>\n",
       "      <th>1</th>\n",
       "      <td>9988021</td>\n",
       "      <td>580560515_7732621733</td>\n",
       "      <td>781255054_21935453173_531117</td>\n",
       "      <td>step_2</td>\n",
       "      <td>2017-04-17 15:26:51</td>\n",
       "    </tr>\n",
       "    <tr>\n",
       "      <th>2</th>\n",
       "      <td>9988021</td>\n",
       "      <td>580560515_7732621733</td>\n",
       "      <td>781255054_21935453173_531117</td>\n",
       "      <td>step_3</td>\n",
       "      <td>2017-04-17 15:19:22</td>\n",
       "    </tr>\n",
       "    <tr>\n",
       "      <th>3</th>\n",
       "      <td>9988021</td>\n",
       "      <td>580560515_7732621733</td>\n",
       "      <td>781255054_21935453173_531117</td>\n",
       "      <td>step_2</td>\n",
       "      <td>2017-04-17 15:19:13</td>\n",
       "    </tr>\n",
       "    <tr>\n",
       "      <th>4</th>\n",
       "      <td>9988021</td>\n",
       "      <td>580560515_7732621733</td>\n",
       "      <td>781255054_21935453173_531117</td>\n",
       "      <td>step_3</td>\n",
       "      <td>2017-04-17 15:18:04</td>\n",
       "    </tr>\n",
       "    <tr>\n",
       "      <th>...</th>\n",
       "      <td>...</td>\n",
       "      <td>...</td>\n",
       "      <td>...</td>\n",
       "      <td>...</td>\n",
       "      <td>...</td>\n",
       "    </tr>\n",
       "    <tr>\n",
       "      <th>412259</th>\n",
       "      <td>9668240</td>\n",
       "      <td>388766751_9038881013</td>\n",
       "      <td>922267647_3096648104_968866</td>\n",
       "      <td>start</td>\n",
       "      <td>2017-05-24 18:46:10</td>\n",
       "    </tr>\n",
       "    <tr>\n",
       "      <th>412260</th>\n",
       "      <td>9668240</td>\n",
       "      <td>388766751_9038881013</td>\n",
       "      <td>922267647_3096648104_968866</td>\n",
       "      <td>start</td>\n",
       "      <td>2017-05-24 18:45:29</td>\n",
       "    </tr>\n",
       "    <tr>\n",
       "      <th>412261</th>\n",
       "      <td>9668240</td>\n",
       "      <td>388766751_9038881013</td>\n",
       "      <td>922267647_3096648104_968866</td>\n",
       "      <td>step_1</td>\n",
       "      <td>2017-05-24 18:44:51</td>\n",
       "    </tr>\n",
       "    <tr>\n",
       "      <th>412262</th>\n",
       "      <td>9668240</td>\n",
       "      <td>388766751_9038881013</td>\n",
       "      <td>922267647_3096648104_968866</td>\n",
       "      <td>start</td>\n",
       "      <td>2017-05-24 18:44:34</td>\n",
       "    </tr>\n",
       "    <tr>\n",
       "      <th>412263</th>\n",
       "      <td>674799</td>\n",
       "      <td>947159805_81558194550</td>\n",
       "      <td>86152093_47511127657_716022</td>\n",
       "      <td>start</td>\n",
       "      <td>2017-06-03 12:17:09</td>\n",
       "    </tr>\n",
       "  </tbody>\n",
       "</table>\n",
       "<p>755405 rows × 5 columns</p>\n",
       "</div>"
      ],
      "text/plain": [
       "        client_id             visitor_id                      visit_id  \\\n",
       "0         9988021   580560515_7732621733  781255054_21935453173_531117   \n",
       "1         9988021   580560515_7732621733  781255054_21935453173_531117   \n",
       "2         9988021   580560515_7732621733  781255054_21935453173_531117   \n",
       "3         9988021   580560515_7732621733  781255054_21935453173_531117   \n",
       "4         9988021   580560515_7732621733  781255054_21935453173_531117   \n",
       "...           ...                    ...                           ...   \n",
       "412259    9668240   388766751_9038881013   922267647_3096648104_968866   \n",
       "412260    9668240   388766751_9038881013   922267647_3096648104_968866   \n",
       "412261    9668240   388766751_9038881013   922267647_3096648104_968866   \n",
       "412262    9668240   388766751_9038881013   922267647_3096648104_968866   \n",
       "412263     674799  947159805_81558194550   86152093_47511127657_716022   \n",
       "\n",
       "       process_step            date_time  \n",
       "0            step_3  2017-04-17 15:27:07  \n",
       "1            step_2  2017-04-17 15:26:51  \n",
       "2            step_3  2017-04-17 15:19:22  \n",
       "3            step_2  2017-04-17 15:19:13  \n",
       "4            step_3  2017-04-17 15:18:04  \n",
       "...             ...                  ...  \n",
       "412259        start  2017-05-24 18:46:10  \n",
       "412260        start  2017-05-24 18:45:29  \n",
       "412261       step_1  2017-05-24 18:44:51  \n",
       "412262        start  2017-05-24 18:44:34  \n",
       "412263        start  2017-06-03 12:17:09  \n",
       "\n",
       "[755405 rows x 5 columns]"
      ]
     },
     "execution_count": 28,
     "metadata": {},
     "output_type": "execute_result"
    }
   ],
   "source": [
    "total_web"
   ]
  },
  {
   "cell_type": "code",
   "execution_count": 29,
   "metadata": {},
   "outputs": [
    {
     "data": {
      "text/plain": [
       "process_step\n",
       "start      243945\n",
       "step_1     163193\n",
       "step_2     133062\n",
       "step_3     112242\n",
       "confirm    102963\n",
       "Name: count, dtype: int64"
      ]
     },
     "execution_count": 29,
     "metadata": {},
     "output_type": "execute_result"
    }
   ],
   "source": [
    "total_web['process_step'].value_counts()"
   ]
  },
  {
   "cell_type": "code",
   "execution_count": 30,
   "metadata": {},
   "outputs": [
    {
     "data": {
      "text/plain": [
       "client_id\n",
       "5574879    111\n",
       "2274658     90\n",
       "2128341     84\n",
       "5951379     81\n",
       "1595223     81\n",
       "          ... \n",
       "656715       1\n",
       "2066750      1\n",
       "1283050      1\n",
       "6963245      1\n",
       "674799       1\n",
       "Name: count, Length: 120157, dtype: int64"
      ]
     },
     "execution_count": 30,
     "metadata": {},
     "output_type": "execute_result"
    }
   ],
   "source": [
    "total_web['client_id'].value_counts()"
   ]
  },
  {
   "cell_type": "code",
   "execution_count": null,
   "metadata": {},
   "outputs": [],
   "source": []
  }
 ],
 "metadata": {
  "kernelspec": {
   "display_name": "base",
   "language": "python",
   "name": "python3"
  },
  "language_info": {
   "codemirror_mode": {
    "name": "ipython",
    "version": 3
   },
   "file_extension": ".py",
   "mimetype": "text/x-python",
   "name": "python",
   "nbconvert_exporter": "python",
   "pygments_lexer": "ipython3",
   "version": "3.11.7"
  }
 },
 "nbformat": 4,
 "nbformat_minor": 2
}
