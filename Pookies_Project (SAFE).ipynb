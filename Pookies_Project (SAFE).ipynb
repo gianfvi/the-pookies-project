{
 "cells": [
  {
   "cell_type": "code",
   "execution_count": 1,
   "metadata": {},
   "outputs": [],
   "source": [
    "import pandas as pd\n",
    "import numpy as np\n",
    "import seaborn as sns\n",
    "import matplotlib.pyplot as plt\n",
    "import warnings\n",
    "\n",
    "warnings.filterwarnings(\"ignore\", category=UserWarning)"
   ]
  },
  {
   "cell_type": "markdown",
   "metadata": {},
   "source": [
    "## **CLIENT PROFILES**"
   ]
  },
  {
   "cell_type": "code",
   "execution_count": 2,
   "metadata": {},
   "outputs": [
    {
     "data": {
      "text/html": [
       "<div>\n",
       "<style scoped>\n",
       "    .dataframe tbody tr th:only-of-type {\n",
       "        vertical-align: middle;\n",
       "    }\n",
       "\n",
       "    .dataframe tbody tr th {\n",
       "        vertical-align: top;\n",
       "    }\n",
       "\n",
       "    .dataframe thead th {\n",
       "        text-align: right;\n",
       "    }\n",
       "</style>\n",
       "<table border=\"1\" class=\"dataframe\">\n",
       "  <thead>\n",
       "    <tr style=\"text-align: right;\">\n",
       "      <th></th>\n",
       "      <th>client_id</th>\n",
       "      <th>clnt_tenure_yr</th>\n",
       "      <th>clnt_tenure_mnth</th>\n",
       "      <th>clnt_age</th>\n",
       "      <th>gendr</th>\n",
       "      <th>num_accts</th>\n",
       "      <th>bal</th>\n",
       "      <th>calls_6_mnth</th>\n",
       "      <th>logons_6_mnth</th>\n",
       "    </tr>\n",
       "  </thead>\n",
       "  <tbody>\n",
       "    <tr>\n",
       "      <th>0</th>\n",
       "      <td>836976</td>\n",
       "      <td>6.0</td>\n",
       "      <td>73.0</td>\n",
       "      <td>60.5</td>\n",
       "      <td>U</td>\n",
       "      <td>2.0</td>\n",
       "      <td>45105.30</td>\n",
       "      <td>6.0</td>\n",
       "      <td>9.0</td>\n",
       "    </tr>\n",
       "    <tr>\n",
       "      <th>1</th>\n",
       "      <td>2304905</td>\n",
       "      <td>7.0</td>\n",
       "      <td>94.0</td>\n",
       "      <td>58.0</td>\n",
       "      <td>U</td>\n",
       "      <td>2.0</td>\n",
       "      <td>110860.30</td>\n",
       "      <td>6.0</td>\n",
       "      <td>9.0</td>\n",
       "    </tr>\n",
       "    <tr>\n",
       "      <th>2</th>\n",
       "      <td>1439522</td>\n",
       "      <td>5.0</td>\n",
       "      <td>64.0</td>\n",
       "      <td>32.0</td>\n",
       "      <td>U</td>\n",
       "      <td>2.0</td>\n",
       "      <td>52467.79</td>\n",
       "      <td>6.0</td>\n",
       "      <td>9.0</td>\n",
       "    </tr>\n",
       "    <tr>\n",
       "      <th>3</th>\n",
       "      <td>1562045</td>\n",
       "      <td>16.0</td>\n",
       "      <td>198.0</td>\n",
       "      <td>49.0</td>\n",
       "      <td>M</td>\n",
       "      <td>2.0</td>\n",
       "      <td>67454.65</td>\n",
       "      <td>3.0</td>\n",
       "      <td>6.0</td>\n",
       "    </tr>\n",
       "    <tr>\n",
       "      <th>4</th>\n",
       "      <td>5126305</td>\n",
       "      <td>12.0</td>\n",
       "      <td>145.0</td>\n",
       "      <td>33.0</td>\n",
       "      <td>F</td>\n",
       "      <td>2.0</td>\n",
       "      <td>103671.75</td>\n",
       "      <td>0.0</td>\n",
       "      <td>3.0</td>\n",
       "    </tr>\n",
       "    <tr>\n",
       "      <th>...</th>\n",
       "      <td>...</td>\n",
       "      <td>...</td>\n",
       "      <td>...</td>\n",
       "      <td>...</td>\n",
       "      <td>...</td>\n",
       "      <td>...</td>\n",
       "      <td>...</td>\n",
       "      <td>...</td>\n",
       "      <td>...</td>\n",
       "    </tr>\n",
       "    <tr>\n",
       "      <th>70604</th>\n",
       "      <td>7993686</td>\n",
       "      <td>4.0</td>\n",
       "      <td>56.0</td>\n",
       "      <td>38.5</td>\n",
       "      <td>U</td>\n",
       "      <td>3.0</td>\n",
       "      <td>1411062.68</td>\n",
       "      <td>5.0</td>\n",
       "      <td>5.0</td>\n",
       "    </tr>\n",
       "    <tr>\n",
       "      <th>70605</th>\n",
       "      <td>8981690</td>\n",
       "      <td>12.0</td>\n",
       "      <td>148.0</td>\n",
       "      <td>31.0</td>\n",
       "      <td>M</td>\n",
       "      <td>2.0</td>\n",
       "      <td>101867.07</td>\n",
       "      <td>6.0</td>\n",
       "      <td>6.0</td>\n",
       "    </tr>\n",
       "    <tr>\n",
       "      <th>70606</th>\n",
       "      <td>333913</td>\n",
       "      <td>16.0</td>\n",
       "      <td>198.0</td>\n",
       "      <td>61.5</td>\n",
       "      <td>F</td>\n",
       "      <td>2.0</td>\n",
       "      <td>40745.00</td>\n",
       "      <td>3.0</td>\n",
       "      <td>3.0</td>\n",
       "    </tr>\n",
       "    <tr>\n",
       "      <th>70607</th>\n",
       "      <td>1573142</td>\n",
       "      <td>21.0</td>\n",
       "      <td>255.0</td>\n",
       "      <td>68.0</td>\n",
       "      <td>M</td>\n",
       "      <td>3.0</td>\n",
       "      <td>475114.69</td>\n",
       "      <td>4.0</td>\n",
       "      <td>4.0</td>\n",
       "    </tr>\n",
       "    <tr>\n",
       "      <th>70608</th>\n",
       "      <td>5602139</td>\n",
       "      <td>21.0</td>\n",
       "      <td>254.0</td>\n",
       "      <td>59.5</td>\n",
       "      <td>F</td>\n",
       "      <td>3.0</td>\n",
       "      <td>157498.73</td>\n",
       "      <td>7.0</td>\n",
       "      <td>7.0</td>\n",
       "    </tr>\n",
       "  </tbody>\n",
       "</table>\n",
       "<p>70609 rows × 9 columns</p>\n",
       "</div>"
      ],
      "text/plain": [
       "       client_id  clnt_tenure_yr  clnt_tenure_mnth  clnt_age gendr  num_accts  \\\n",
       "0         836976             6.0              73.0      60.5     U        2.0   \n",
       "1        2304905             7.0              94.0      58.0     U        2.0   \n",
       "2        1439522             5.0              64.0      32.0     U        2.0   \n",
       "3        1562045            16.0             198.0      49.0     M        2.0   \n",
       "4        5126305            12.0             145.0      33.0     F        2.0   \n",
       "...          ...             ...               ...       ...   ...        ...   \n",
       "70604    7993686             4.0              56.0      38.5     U        3.0   \n",
       "70605    8981690            12.0             148.0      31.0     M        2.0   \n",
       "70606     333913            16.0             198.0      61.5     F        2.0   \n",
       "70607    1573142            21.0             255.0      68.0     M        3.0   \n",
       "70608    5602139            21.0             254.0      59.5     F        3.0   \n",
       "\n",
       "              bal  calls_6_mnth  logons_6_mnth  \n",
       "0        45105.30           6.0            9.0  \n",
       "1       110860.30           6.0            9.0  \n",
       "2        52467.79           6.0            9.0  \n",
       "3        67454.65           3.0            6.0  \n",
       "4       103671.75           0.0            3.0  \n",
       "...           ...           ...            ...  \n",
       "70604  1411062.68           5.0            5.0  \n",
       "70605   101867.07           6.0            6.0  \n",
       "70606    40745.00           3.0            3.0  \n",
       "70607   475114.69           4.0            4.0  \n",
       "70608   157498.73           7.0            7.0  \n",
       "\n",
       "[70609 rows x 9 columns]"
      ]
     },
     "execution_count": 2,
     "metadata": {},
     "output_type": "execute_result"
    }
   ],
   "source": [
    "df = pd.read_csv('df_final_demo.txt', delimiter=',')  # Adjust the delimiter based on your file format\n",
    "\n",
    "# Save the DataFrame to a CSV file\n",
    "df.to_csv('output.csv', index=False)  # Adjust the output file name as needed\n",
    "\n",
    "df"
   ]
  },
  {
   "cell_type": "code",
   "execution_count": 3,
   "metadata": {},
   "outputs": [],
   "source": [
    "df.columns = ['client_id', 'client_yr_tenure', 'client_mo_tenure', 'client_age', 'gender', 'num_accts', 'balance', 'calls_6m', 'logins_6m']"
   ]
  },
  {
   "cell_type": "code",
   "execution_count": 4,
   "metadata": {},
   "outputs": [],
   "source": [
    "df.gender = df['gender'].apply(lambda x: 'Unknown' if x in ['U', 'X'] else 'Male' if x in ['M'] else 'Female' if x in ['F'] else x)"
   ]
  },
  {
   "cell_type": "code",
   "execution_count": 5,
   "metadata": {},
   "outputs": [],
   "source": [
    "df.dropna(inplace=True)"
   ]
  },
  {
   "cell_type": "code",
   "execution_count": 6,
   "metadata": {},
   "outputs": [],
   "source": [
    "df['client_age'] = df['client_age'].astype(int)\n",
    "df['client_yr_tenure'] = df['client_yr_tenure'].astype(int)\n",
    "df['client_mo_tenure'] = df['client_mo_tenure'].astype(int)\n",
    "df['num_accts'] = df['num_accts'].astype(int)\n",
    "df['calls_6m'] = df['calls_6m'].astype(int)\n",
    "df['logins_6m'] = df['logins_6m'].astype(int)"
   ]
  },
  {
   "cell_type": "code",
   "execution_count": 7,
   "metadata": {},
   "outputs": [
    {
     "name": "stdout",
     "output_type": "stream",
     "text": [
      "           client_id  client_yr_tenure  client_mo_tenure  client_age  gender  \\\n",
      "age_group                                                                      \n",
      "18-24           4280                35               314           6       3   \n",
      "25-39          20625                41               380          15       3   \n",
      "40-64          36070                51               452          26       3   \n",
      "65+             9245                51               451          32       3   \n",
      "\n",
      "           num_accts  balance  calls_6m  logins_6m  \n",
      "age_group                                           \n",
      "18-24              4     4277         8          9  \n",
      "25-39              7    20589         8          9  \n",
      "40-64              8    36004         8          9  \n",
      "65+                6     9239         8          9  \n"
     ]
    },
    {
     "name": "stderr",
     "output_type": "stream",
     "text": [
      "/var/folders/mg/fz6127296bzcnc_rxkv52kvm0000gn/T/ipykernel_6840/3578084135.py:8: FutureWarning: The default of observed=False is deprecated and will be changed to True in a future version of pandas. Pass observed=False to retain current behavior or observed=True to adopt the future default and silence this warning.\n",
      "  unique_values_by_age_group = df.groupby('age_group').nunique()\n"
     ]
    }
   ],
   "source": [
    "bins = [18, 24, 39, 65, float('inf')]\n",
    "labels = ['18-24', '25-39', '40-64', '65+']\n",
    "\n",
    "# Create a new column 'age_group' with the age bins\n",
    "df['age_group'] = pd.cut(df['client_age'], bins=bins, labels=labels, right=False)\n",
    "\n",
    "# Group by 'age_group' and find the number of unique values in each group\n",
    "unique_values_by_age_group = df.groupby('age_group').nunique()\n",
    "\n",
    "# Display the result\n",
    "print(unique_values_by_age_group)\n",
    "\n",
    "\n",
    "#Are the primary clients younger or older, new or long-standing?\n",
    "#Here we can the majority of the clients fall into the 46-64 age group, with the average age being 52 and long-standing. "
   ]
  },
  {
   "cell_type": "code",
   "execution_count": 8,
   "metadata": {},
   "outputs": [
    {
     "data": {
      "text/html": [
       "<div>\n",
       "<style scoped>\n",
       "    .dataframe tbody tr th:only-of-type {\n",
       "        vertical-align: middle;\n",
       "    }\n",
       "\n",
       "    .dataframe tbody tr th {\n",
       "        vertical-align: top;\n",
       "    }\n",
       "\n",
       "    .dataframe thead th {\n",
       "        text-align: right;\n",
       "    }\n",
       "</style>\n",
       "<table border=\"1\" class=\"dataframe\">\n",
       "  <thead>\n",
       "    <tr style=\"text-align: right;\">\n",
       "      <th></th>\n",
       "      <th>client_id</th>\n",
       "      <th>client_yr_tenure</th>\n",
       "      <th>client_mo_tenure</th>\n",
       "      <th>client_age</th>\n",
       "      <th>gender</th>\n",
       "      <th>num_accts</th>\n",
       "      <th>balance</th>\n",
       "      <th>calls_6m</th>\n",
       "      <th>logins_6m</th>\n",
       "      <th>age_group</th>\n",
       "    </tr>\n",
       "  </thead>\n",
       "  <tbody>\n",
       "    <tr>\n",
       "      <th>0</th>\n",
       "      <td>836976</td>\n",
       "      <td>6</td>\n",
       "      <td>73</td>\n",
       "      <td>60</td>\n",
       "      <td>Unknown</td>\n",
       "      <td>2</td>\n",
       "      <td>45105.30</td>\n",
       "      <td>6</td>\n",
       "      <td>9</td>\n",
       "      <td>40-64</td>\n",
       "    </tr>\n",
       "    <tr>\n",
       "      <th>1</th>\n",
       "      <td>2304905</td>\n",
       "      <td>7</td>\n",
       "      <td>94</td>\n",
       "      <td>58</td>\n",
       "      <td>Unknown</td>\n",
       "      <td>2</td>\n",
       "      <td>110860.30</td>\n",
       "      <td>6</td>\n",
       "      <td>9</td>\n",
       "      <td>40-64</td>\n",
       "    </tr>\n",
       "    <tr>\n",
       "      <th>2</th>\n",
       "      <td>1439522</td>\n",
       "      <td>5</td>\n",
       "      <td>64</td>\n",
       "      <td>32</td>\n",
       "      <td>Unknown</td>\n",
       "      <td>2</td>\n",
       "      <td>52467.79</td>\n",
       "      <td>6</td>\n",
       "      <td>9</td>\n",
       "      <td>25-39</td>\n",
       "    </tr>\n",
       "    <tr>\n",
       "      <th>3</th>\n",
       "      <td>1562045</td>\n",
       "      <td>16</td>\n",
       "      <td>198</td>\n",
       "      <td>49</td>\n",
       "      <td>Male</td>\n",
       "      <td>2</td>\n",
       "      <td>67454.65</td>\n",
       "      <td>3</td>\n",
       "      <td>6</td>\n",
       "      <td>40-64</td>\n",
       "    </tr>\n",
       "    <tr>\n",
       "      <th>4</th>\n",
       "      <td>5126305</td>\n",
       "      <td>12</td>\n",
       "      <td>145</td>\n",
       "      <td>33</td>\n",
       "      <td>Female</td>\n",
       "      <td>2</td>\n",
       "      <td>103671.75</td>\n",
       "      <td>0</td>\n",
       "      <td>3</td>\n",
       "      <td>25-39</td>\n",
       "    </tr>\n",
       "    <tr>\n",
       "      <th>...</th>\n",
       "      <td>...</td>\n",
       "      <td>...</td>\n",
       "      <td>...</td>\n",
       "      <td>...</td>\n",
       "      <td>...</td>\n",
       "      <td>...</td>\n",
       "      <td>...</td>\n",
       "      <td>...</td>\n",
       "      <td>...</td>\n",
       "      <td>...</td>\n",
       "    </tr>\n",
       "    <tr>\n",
       "      <th>70604</th>\n",
       "      <td>7993686</td>\n",
       "      <td>4</td>\n",
       "      <td>56</td>\n",
       "      <td>38</td>\n",
       "      <td>Unknown</td>\n",
       "      <td>3</td>\n",
       "      <td>1411062.68</td>\n",
       "      <td>5</td>\n",
       "      <td>5</td>\n",
       "      <td>25-39</td>\n",
       "    </tr>\n",
       "    <tr>\n",
       "      <th>70605</th>\n",
       "      <td>8981690</td>\n",
       "      <td>12</td>\n",
       "      <td>148</td>\n",
       "      <td>31</td>\n",
       "      <td>Male</td>\n",
       "      <td>2</td>\n",
       "      <td>101867.07</td>\n",
       "      <td>6</td>\n",
       "      <td>6</td>\n",
       "      <td>25-39</td>\n",
       "    </tr>\n",
       "    <tr>\n",
       "      <th>70606</th>\n",
       "      <td>333913</td>\n",
       "      <td>16</td>\n",
       "      <td>198</td>\n",
       "      <td>61</td>\n",
       "      <td>Female</td>\n",
       "      <td>2</td>\n",
       "      <td>40745.00</td>\n",
       "      <td>3</td>\n",
       "      <td>3</td>\n",
       "      <td>40-64</td>\n",
       "    </tr>\n",
       "    <tr>\n",
       "      <th>70607</th>\n",
       "      <td>1573142</td>\n",
       "      <td>21</td>\n",
       "      <td>255</td>\n",
       "      <td>68</td>\n",
       "      <td>Male</td>\n",
       "      <td>3</td>\n",
       "      <td>475114.69</td>\n",
       "      <td>4</td>\n",
       "      <td>4</td>\n",
       "      <td>65+</td>\n",
       "    </tr>\n",
       "    <tr>\n",
       "      <th>70608</th>\n",
       "      <td>5602139</td>\n",
       "      <td>21</td>\n",
       "      <td>254</td>\n",
       "      <td>59</td>\n",
       "      <td>Female</td>\n",
       "      <td>3</td>\n",
       "      <td>157498.73</td>\n",
       "      <td>7</td>\n",
       "      <td>7</td>\n",
       "      <td>40-64</td>\n",
       "    </tr>\n",
       "  </tbody>\n",
       "</table>\n",
       "<p>70594 rows × 10 columns</p>\n",
       "</div>"
      ],
      "text/plain": [
       "       client_id  client_yr_tenure  client_mo_tenure  client_age   gender  \\\n",
       "0         836976                 6                73          60  Unknown   \n",
       "1        2304905                 7                94          58  Unknown   \n",
       "2        1439522                 5                64          32  Unknown   \n",
       "3        1562045                16               198          49     Male   \n",
       "4        5126305                12               145          33   Female   \n",
       "...          ...               ...               ...         ...      ...   \n",
       "70604    7993686                 4                56          38  Unknown   \n",
       "70605    8981690                12               148          31     Male   \n",
       "70606     333913                16               198          61   Female   \n",
       "70607    1573142                21               255          68     Male   \n",
       "70608    5602139                21               254          59   Female   \n",
       "\n",
       "       num_accts     balance  calls_6m  logins_6m age_group  \n",
       "0              2    45105.30         6          9     40-64  \n",
       "1              2   110860.30         6          9     40-64  \n",
       "2              2    52467.79         6          9     25-39  \n",
       "3              2    67454.65         3          6     40-64  \n",
       "4              2   103671.75         0          3     25-39  \n",
       "...          ...         ...       ...        ...       ...  \n",
       "70604          3  1411062.68         5          5     25-39  \n",
       "70605          2   101867.07         6          6     25-39  \n",
       "70606          2    40745.00         3          3     40-64  \n",
       "70607          3   475114.69         4          4       65+  \n",
       "70608          3   157498.73         7          7     40-64  \n",
       "\n",
       "[70594 rows x 10 columns]"
      ]
     },
     "execution_count": 8,
     "metadata": {},
     "output_type": "execute_result"
    }
   ],
   "source": [
    "df"
   ]
  },
  {
   "cell_type": "code",
   "execution_count": 9,
   "metadata": {},
   "outputs": [],
   "source": [
    "df.to_csv('demographics.csv', index=False)"
   ]
  },
  {
   "cell_type": "markdown",
   "metadata": {},
   "source": [
    "## **EXPERIMENT ROSTER**"
   ]
  },
  {
   "cell_type": "code",
   "execution_count": 10,
   "metadata": {},
   "outputs": [],
   "source": [
    "experiment = pd.read_csv('df_final_experiment_clients.txt', delimiter=',')  # Adjust the delimiter based on your file format\n",
    "\n",
    "# Save the DataFrame to a CSV file\n",
    "experiment.to_csv('output.csv', index=False)  # Adjust the output file name as needed"
   ]
  },
  {
   "cell_type": "code",
   "execution_count": 11,
   "metadata": {},
   "outputs": [
    {
     "data": {
      "text/html": [
       "<div>\n",
       "<style scoped>\n",
       "    .dataframe tbody tr th:only-of-type {\n",
       "        vertical-align: middle;\n",
       "    }\n",
       "\n",
       "    .dataframe tbody tr th {\n",
       "        vertical-align: top;\n",
       "    }\n",
       "\n",
       "    .dataframe thead th {\n",
       "        text-align: right;\n",
       "    }\n",
       "</style>\n",
       "<table border=\"1\" class=\"dataframe\">\n",
       "  <thead>\n",
       "    <tr style=\"text-align: right;\">\n",
       "      <th></th>\n",
       "      <th>client_id</th>\n",
       "      <th>Variation</th>\n",
       "    </tr>\n",
       "  </thead>\n",
       "  <tbody>\n",
       "    <tr>\n",
       "      <th>0</th>\n",
       "      <td>9988021</td>\n",
       "      <td>Test</td>\n",
       "    </tr>\n",
       "    <tr>\n",
       "      <th>1</th>\n",
       "      <td>8320017</td>\n",
       "      <td>Test</td>\n",
       "    </tr>\n",
       "    <tr>\n",
       "      <th>2</th>\n",
       "      <td>4033851</td>\n",
       "      <td>Control</td>\n",
       "    </tr>\n",
       "    <tr>\n",
       "      <th>3</th>\n",
       "      <td>1982004</td>\n",
       "      <td>Test</td>\n",
       "    </tr>\n",
       "    <tr>\n",
       "      <th>4</th>\n",
       "      <td>9294070</td>\n",
       "      <td>Control</td>\n",
       "    </tr>\n",
       "    <tr>\n",
       "      <th>...</th>\n",
       "      <td>...</td>\n",
       "      <td>...</td>\n",
       "    </tr>\n",
       "    <tr>\n",
       "      <th>50495</th>\n",
       "      <td>393005</td>\n",
       "      <td>Control</td>\n",
       "    </tr>\n",
       "    <tr>\n",
       "      <th>50496</th>\n",
       "      <td>2908510</td>\n",
       "      <td>Control</td>\n",
       "    </tr>\n",
       "    <tr>\n",
       "      <th>50497</th>\n",
       "      <td>7230446</td>\n",
       "      <td>Test</td>\n",
       "    </tr>\n",
       "    <tr>\n",
       "      <th>50498</th>\n",
       "      <td>5230357</td>\n",
       "      <td>Test</td>\n",
       "    </tr>\n",
       "    <tr>\n",
       "      <th>50499</th>\n",
       "      <td>6334360</td>\n",
       "      <td>Test</td>\n",
       "    </tr>\n",
       "  </tbody>\n",
       "</table>\n",
       "<p>50500 rows × 2 columns</p>\n",
       "</div>"
      ],
      "text/plain": [
       "       client_id Variation\n",
       "0        9988021      Test\n",
       "1        8320017      Test\n",
       "2        4033851   Control\n",
       "3        1982004      Test\n",
       "4        9294070   Control\n",
       "...          ...       ...\n",
       "50495     393005   Control\n",
       "50496    2908510   Control\n",
       "50497    7230446      Test\n",
       "50498    5230357      Test\n",
       "50499    6334360      Test\n",
       "\n",
       "[50500 rows x 2 columns]"
      ]
     },
     "execution_count": 11,
     "metadata": {},
     "output_type": "execute_result"
    }
   ],
   "source": [
    "experiment.dropna(inplace=True)\n",
    "\n",
    "experiment"
   ]
  },
  {
   "cell_type": "markdown",
   "metadata": {},
   "source": [
    "## **DIGITAL FOOTPRINTS**"
   ]
  },
  {
   "cell_type": "code",
   "execution_count": 12,
   "metadata": {},
   "outputs": [
    {
     "data": {
      "text/html": [
       "<div>\n",
       "<style scoped>\n",
       "    .dataframe tbody tr th:only-of-type {\n",
       "        vertical-align: middle;\n",
       "    }\n",
       "\n",
       "    .dataframe tbody tr th {\n",
       "        vertical-align: top;\n",
       "    }\n",
       "\n",
       "    .dataframe thead th {\n",
       "        text-align: right;\n",
       "    }\n",
       "</style>\n",
       "<table border=\"1\" class=\"dataframe\">\n",
       "  <thead>\n",
       "    <tr style=\"text-align: right;\">\n",
       "      <th></th>\n",
       "      <th>client_id</th>\n",
       "      <th>visitor_id</th>\n",
       "      <th>visit_id</th>\n",
       "      <th>process_step</th>\n",
       "      <th>date_time</th>\n",
       "    </tr>\n",
       "  </thead>\n",
       "  <tbody>\n",
       "    <tr>\n",
       "      <th>0</th>\n",
       "      <td>9988021</td>\n",
       "      <td>580560515_7732621733</td>\n",
       "      <td>781255054_21935453173_531117</td>\n",
       "      <td>step_3</td>\n",
       "      <td>2017-04-17 15:27:07</td>\n",
       "    </tr>\n",
       "    <tr>\n",
       "      <th>1</th>\n",
       "      <td>9988021</td>\n",
       "      <td>580560515_7732621733</td>\n",
       "      <td>781255054_21935453173_531117</td>\n",
       "      <td>step_2</td>\n",
       "      <td>2017-04-17 15:26:51</td>\n",
       "    </tr>\n",
       "    <tr>\n",
       "      <th>2</th>\n",
       "      <td>9988021</td>\n",
       "      <td>580560515_7732621733</td>\n",
       "      <td>781255054_21935453173_531117</td>\n",
       "      <td>step_3</td>\n",
       "      <td>2017-04-17 15:19:22</td>\n",
       "    </tr>\n",
       "    <tr>\n",
       "      <th>3</th>\n",
       "      <td>9988021</td>\n",
       "      <td>580560515_7732621733</td>\n",
       "      <td>781255054_21935453173_531117</td>\n",
       "      <td>step_2</td>\n",
       "      <td>2017-04-17 15:19:13</td>\n",
       "    </tr>\n",
       "    <tr>\n",
       "      <th>4</th>\n",
       "      <td>9988021</td>\n",
       "      <td>580560515_7732621733</td>\n",
       "      <td>781255054_21935453173_531117</td>\n",
       "      <td>step_3</td>\n",
       "      <td>2017-04-17 15:18:04</td>\n",
       "    </tr>\n",
       "    <tr>\n",
       "      <th>...</th>\n",
       "      <td>...</td>\n",
       "      <td>...</td>\n",
       "      <td>...</td>\n",
       "      <td>...</td>\n",
       "      <td>...</td>\n",
       "    </tr>\n",
       "    <tr>\n",
       "      <th>343136</th>\n",
       "      <td>2443347</td>\n",
       "      <td>465784886_73090545671</td>\n",
       "      <td>136329900_10529659391_316129</td>\n",
       "      <td>confirm</td>\n",
       "      <td>2017-03-31 15:15:46</td>\n",
       "    </tr>\n",
       "    <tr>\n",
       "      <th>343137</th>\n",
       "      <td>2443347</td>\n",
       "      <td>465784886_73090545671</td>\n",
       "      <td>136329900_10529659391_316129</td>\n",
       "      <td>step_3</td>\n",
       "      <td>2017-03-31 15:14:53</td>\n",
       "    </tr>\n",
       "    <tr>\n",
       "      <th>343138</th>\n",
       "      <td>2443347</td>\n",
       "      <td>465784886_73090545671</td>\n",
       "      <td>136329900_10529659391_316129</td>\n",
       "      <td>step_2</td>\n",
       "      <td>2017-03-31 15:12:08</td>\n",
       "    </tr>\n",
       "    <tr>\n",
       "      <th>343139</th>\n",
       "      <td>2443347</td>\n",
       "      <td>465784886_73090545671</td>\n",
       "      <td>136329900_10529659391_316129</td>\n",
       "      <td>step_1</td>\n",
       "      <td>2017-03-31 15:11:37</td>\n",
       "    </tr>\n",
       "    <tr>\n",
       "      <th>343140</th>\n",
       "      <td>2443347</td>\n",
       "      <td>465784886_73090545671</td>\n",
       "      <td>136329900_10529659391_316129</td>\n",
       "      <td>start</td>\n",
       "      <td>2017-03-31 15:10:47</td>\n",
       "    </tr>\n",
       "  </tbody>\n",
       "</table>\n",
       "<p>343141 rows × 5 columns</p>\n",
       "</div>"
      ],
      "text/plain": [
       "        client_id             visitor_id                      visit_id  \\\n",
       "0         9988021   580560515_7732621733  781255054_21935453173_531117   \n",
       "1         9988021   580560515_7732621733  781255054_21935453173_531117   \n",
       "2         9988021   580560515_7732621733  781255054_21935453173_531117   \n",
       "3         9988021   580560515_7732621733  781255054_21935453173_531117   \n",
       "4         9988021   580560515_7732621733  781255054_21935453173_531117   \n",
       "...           ...                    ...                           ...   \n",
       "343136    2443347  465784886_73090545671  136329900_10529659391_316129   \n",
       "343137    2443347  465784886_73090545671  136329900_10529659391_316129   \n",
       "343138    2443347  465784886_73090545671  136329900_10529659391_316129   \n",
       "343139    2443347  465784886_73090545671  136329900_10529659391_316129   \n",
       "343140    2443347  465784886_73090545671  136329900_10529659391_316129   \n",
       "\n",
       "       process_step            date_time  \n",
       "0            step_3  2017-04-17 15:27:07  \n",
       "1            step_2  2017-04-17 15:26:51  \n",
       "2            step_3  2017-04-17 15:19:22  \n",
       "3            step_2  2017-04-17 15:19:13  \n",
       "4            step_3  2017-04-17 15:18:04  \n",
       "...             ...                  ...  \n",
       "343136      confirm  2017-03-31 15:15:46  \n",
       "343137       step_3  2017-03-31 15:14:53  \n",
       "343138       step_2  2017-03-31 15:12:08  \n",
       "343139       step_1  2017-03-31 15:11:37  \n",
       "343140        start  2017-03-31 15:10:47  \n",
       "\n",
       "[343141 rows x 5 columns]"
      ]
     },
     "execution_count": 12,
     "metadata": {},
     "output_type": "execute_result"
    }
   ],
   "source": [
    "web1 = pd.read_csv('df_final_web_data_pt_1.txt', delimiter=',')  # Adjust the delimiter based on your file format\n",
    "\n",
    "# Save the DataFrame to a CSV file\n",
    "web1.to_csv('output_1t.csv', index=False)  # Adjust the output file name as needed\n",
    "\n",
    "web1"
   ]
  },
  {
   "cell_type": "code",
   "execution_count": 13,
   "metadata": {},
   "outputs": [
    {
     "data": {
      "text/html": [
       "<div>\n",
       "<style scoped>\n",
       "    .dataframe tbody tr th:only-of-type {\n",
       "        vertical-align: middle;\n",
       "    }\n",
       "\n",
       "    .dataframe tbody tr th {\n",
       "        vertical-align: top;\n",
       "    }\n",
       "\n",
       "    .dataframe thead th {\n",
       "        text-align: right;\n",
       "    }\n",
       "</style>\n",
       "<table border=\"1\" class=\"dataframe\">\n",
       "  <thead>\n",
       "    <tr style=\"text-align: right;\">\n",
       "      <th></th>\n",
       "      <th>client_id</th>\n",
       "      <th>visitor_id</th>\n",
       "      <th>visit_id</th>\n",
       "      <th>process_step</th>\n",
       "      <th>date_time</th>\n",
       "    </tr>\n",
       "  </thead>\n",
       "  <tbody>\n",
       "    <tr>\n",
       "      <th>0</th>\n",
       "      <td>763412</td>\n",
       "      <td>601952081_10457207388</td>\n",
       "      <td>397475557_40440946728_419634</td>\n",
       "      <td>confirm</td>\n",
       "      <td>2017-06-06 08:56:00</td>\n",
       "    </tr>\n",
       "    <tr>\n",
       "      <th>1</th>\n",
       "      <td>6019349</td>\n",
       "      <td>442094451_91531546617</td>\n",
       "      <td>154620534_35331068705_522317</td>\n",
       "      <td>confirm</td>\n",
       "      <td>2017-06-01 11:59:27</td>\n",
       "    </tr>\n",
       "    <tr>\n",
       "      <th>2</th>\n",
       "      <td>6019349</td>\n",
       "      <td>442094451_91531546617</td>\n",
       "      <td>154620534_35331068705_522317</td>\n",
       "      <td>step_3</td>\n",
       "      <td>2017-06-01 11:58:48</td>\n",
       "    </tr>\n",
       "    <tr>\n",
       "      <th>3</th>\n",
       "      <td>6019349</td>\n",
       "      <td>442094451_91531546617</td>\n",
       "      <td>154620534_35331068705_522317</td>\n",
       "      <td>step_2</td>\n",
       "      <td>2017-06-01 11:58:08</td>\n",
       "    </tr>\n",
       "    <tr>\n",
       "      <th>4</th>\n",
       "      <td>6019349</td>\n",
       "      <td>442094451_91531546617</td>\n",
       "      <td>154620534_35331068705_522317</td>\n",
       "      <td>step_1</td>\n",
       "      <td>2017-06-01 11:57:58</td>\n",
       "    </tr>\n",
       "    <tr>\n",
       "      <th>...</th>\n",
       "      <td>...</td>\n",
       "      <td>...</td>\n",
       "      <td>...</td>\n",
       "      <td>...</td>\n",
       "      <td>...</td>\n",
       "    </tr>\n",
       "    <tr>\n",
       "      <th>412259</th>\n",
       "      <td>9668240</td>\n",
       "      <td>388766751_9038881013</td>\n",
       "      <td>922267647_3096648104_968866</td>\n",
       "      <td>start</td>\n",
       "      <td>2017-05-24 18:46:10</td>\n",
       "    </tr>\n",
       "    <tr>\n",
       "      <th>412260</th>\n",
       "      <td>9668240</td>\n",
       "      <td>388766751_9038881013</td>\n",
       "      <td>922267647_3096648104_968866</td>\n",
       "      <td>start</td>\n",
       "      <td>2017-05-24 18:45:29</td>\n",
       "    </tr>\n",
       "    <tr>\n",
       "      <th>412261</th>\n",
       "      <td>9668240</td>\n",
       "      <td>388766751_9038881013</td>\n",
       "      <td>922267647_3096648104_968866</td>\n",
       "      <td>step_1</td>\n",
       "      <td>2017-05-24 18:44:51</td>\n",
       "    </tr>\n",
       "    <tr>\n",
       "      <th>412262</th>\n",
       "      <td>9668240</td>\n",
       "      <td>388766751_9038881013</td>\n",
       "      <td>922267647_3096648104_968866</td>\n",
       "      <td>start</td>\n",
       "      <td>2017-05-24 18:44:34</td>\n",
       "    </tr>\n",
       "    <tr>\n",
       "      <th>412263</th>\n",
       "      <td>674799</td>\n",
       "      <td>947159805_81558194550</td>\n",
       "      <td>86152093_47511127657_716022</td>\n",
       "      <td>start</td>\n",
       "      <td>2017-06-03 12:17:09</td>\n",
       "    </tr>\n",
       "  </tbody>\n",
       "</table>\n",
       "<p>412264 rows × 5 columns</p>\n",
       "</div>"
      ],
      "text/plain": [
       "        client_id             visitor_id                      visit_id  \\\n",
       "0          763412  601952081_10457207388  397475557_40440946728_419634   \n",
       "1         6019349  442094451_91531546617  154620534_35331068705_522317   \n",
       "2         6019349  442094451_91531546617  154620534_35331068705_522317   \n",
       "3         6019349  442094451_91531546617  154620534_35331068705_522317   \n",
       "4         6019349  442094451_91531546617  154620534_35331068705_522317   \n",
       "...           ...                    ...                           ...   \n",
       "412259    9668240   388766751_9038881013   922267647_3096648104_968866   \n",
       "412260    9668240   388766751_9038881013   922267647_3096648104_968866   \n",
       "412261    9668240   388766751_9038881013   922267647_3096648104_968866   \n",
       "412262    9668240   388766751_9038881013   922267647_3096648104_968866   \n",
       "412263     674799  947159805_81558194550   86152093_47511127657_716022   \n",
       "\n",
       "       process_step            date_time  \n",
       "0           confirm  2017-06-06 08:56:00  \n",
       "1           confirm  2017-06-01 11:59:27  \n",
       "2            step_3  2017-06-01 11:58:48  \n",
       "3            step_2  2017-06-01 11:58:08  \n",
       "4            step_1  2017-06-01 11:57:58  \n",
       "...             ...                  ...  \n",
       "412259        start  2017-05-24 18:46:10  \n",
       "412260        start  2017-05-24 18:45:29  \n",
       "412261       step_1  2017-05-24 18:44:51  \n",
       "412262        start  2017-05-24 18:44:34  \n",
       "412263        start  2017-06-03 12:17:09  \n",
       "\n",
       "[412264 rows x 5 columns]"
      ]
     },
     "execution_count": 13,
     "metadata": {},
     "output_type": "execute_result"
    }
   ],
   "source": [
    "web2 = pd.read_csv('df_final_web_data_pt_2.txt', delimiter=',')  # Adjust the delimiter based on your file format\n",
    "\n",
    "# Save the DataFrame to a CSV file\n",
    "web2.to_csv('outp2ut.csv', index=False)  # Adjust the output file name as needed_\n",
    "\n",
    "web2"
   ]
  },
  {
   "cell_type": "code",
   "execution_count": 14,
   "metadata": {},
   "outputs": [],
   "source": [
    "total_web = pd.concat([web1, web2])"
   ]
  },
  {
   "cell_type": "code",
   "execution_count": 15,
   "metadata": {},
   "outputs": [],
   "source": [
    "total_web.dropna(inplace=True)"
   ]
  },
  {
   "cell_type": "code",
   "execution_count": 16,
   "metadata": {},
   "outputs": [
    {
     "data": {
      "text/html": [
       "<div>\n",
       "<style scoped>\n",
       "    .dataframe tbody tr th:only-of-type {\n",
       "        vertical-align: middle;\n",
       "    }\n",
       "\n",
       "    .dataframe tbody tr th {\n",
       "        vertical-align: top;\n",
       "    }\n",
       "\n",
       "    .dataframe thead th {\n",
       "        text-align: right;\n",
       "    }\n",
       "</style>\n",
       "<table border=\"1\" class=\"dataframe\">\n",
       "  <thead>\n",
       "    <tr style=\"text-align: right;\">\n",
       "      <th></th>\n",
       "      <th>client_id</th>\n",
       "      <th>visitor_id</th>\n",
       "      <th>visit_id</th>\n",
       "      <th>process_step</th>\n",
       "      <th>date_time</th>\n",
       "    </tr>\n",
       "  </thead>\n",
       "  <tbody>\n",
       "    <tr>\n",
       "      <th>0</th>\n",
       "      <td>9988021</td>\n",
       "      <td>580560515_7732621733</td>\n",
       "      <td>781255054_21935453173_531117</td>\n",
       "      <td>step_3</td>\n",
       "      <td>2017-04-17 15:27:07</td>\n",
       "    </tr>\n",
       "    <tr>\n",
       "      <th>1</th>\n",
       "      <td>9988021</td>\n",
       "      <td>580560515_7732621733</td>\n",
       "      <td>781255054_21935453173_531117</td>\n",
       "      <td>step_2</td>\n",
       "      <td>2017-04-17 15:26:51</td>\n",
       "    </tr>\n",
       "    <tr>\n",
       "      <th>2</th>\n",
       "      <td>9988021</td>\n",
       "      <td>580560515_7732621733</td>\n",
       "      <td>781255054_21935453173_531117</td>\n",
       "      <td>step_3</td>\n",
       "      <td>2017-04-17 15:19:22</td>\n",
       "    </tr>\n",
       "    <tr>\n",
       "      <th>3</th>\n",
       "      <td>9988021</td>\n",
       "      <td>580560515_7732621733</td>\n",
       "      <td>781255054_21935453173_531117</td>\n",
       "      <td>step_2</td>\n",
       "      <td>2017-04-17 15:19:13</td>\n",
       "    </tr>\n",
       "    <tr>\n",
       "      <th>4</th>\n",
       "      <td>9988021</td>\n",
       "      <td>580560515_7732621733</td>\n",
       "      <td>781255054_21935453173_531117</td>\n",
       "      <td>step_3</td>\n",
       "      <td>2017-04-17 15:18:04</td>\n",
       "    </tr>\n",
       "    <tr>\n",
       "      <th>...</th>\n",
       "      <td>...</td>\n",
       "      <td>...</td>\n",
       "      <td>...</td>\n",
       "      <td>...</td>\n",
       "      <td>...</td>\n",
       "    </tr>\n",
       "    <tr>\n",
       "      <th>412259</th>\n",
       "      <td>9668240</td>\n",
       "      <td>388766751_9038881013</td>\n",
       "      <td>922267647_3096648104_968866</td>\n",
       "      <td>start</td>\n",
       "      <td>2017-05-24 18:46:10</td>\n",
       "    </tr>\n",
       "    <tr>\n",
       "      <th>412260</th>\n",
       "      <td>9668240</td>\n",
       "      <td>388766751_9038881013</td>\n",
       "      <td>922267647_3096648104_968866</td>\n",
       "      <td>start</td>\n",
       "      <td>2017-05-24 18:45:29</td>\n",
       "    </tr>\n",
       "    <tr>\n",
       "      <th>412261</th>\n",
       "      <td>9668240</td>\n",
       "      <td>388766751_9038881013</td>\n",
       "      <td>922267647_3096648104_968866</td>\n",
       "      <td>step_1</td>\n",
       "      <td>2017-05-24 18:44:51</td>\n",
       "    </tr>\n",
       "    <tr>\n",
       "      <th>412262</th>\n",
       "      <td>9668240</td>\n",
       "      <td>388766751_9038881013</td>\n",
       "      <td>922267647_3096648104_968866</td>\n",
       "      <td>start</td>\n",
       "      <td>2017-05-24 18:44:34</td>\n",
       "    </tr>\n",
       "    <tr>\n",
       "      <th>412263</th>\n",
       "      <td>674799</td>\n",
       "      <td>947159805_81558194550</td>\n",
       "      <td>86152093_47511127657_716022</td>\n",
       "      <td>start</td>\n",
       "      <td>2017-06-03 12:17:09</td>\n",
       "    </tr>\n",
       "  </tbody>\n",
       "</table>\n",
       "<p>755405 rows × 5 columns</p>\n",
       "</div>"
      ],
      "text/plain": [
       "        client_id             visitor_id                      visit_id  \\\n",
       "0         9988021   580560515_7732621733  781255054_21935453173_531117   \n",
       "1         9988021   580560515_7732621733  781255054_21935453173_531117   \n",
       "2         9988021   580560515_7732621733  781255054_21935453173_531117   \n",
       "3         9988021   580560515_7732621733  781255054_21935453173_531117   \n",
       "4         9988021   580560515_7732621733  781255054_21935453173_531117   \n",
       "...           ...                    ...                           ...   \n",
       "412259    9668240   388766751_9038881013   922267647_3096648104_968866   \n",
       "412260    9668240   388766751_9038881013   922267647_3096648104_968866   \n",
       "412261    9668240   388766751_9038881013   922267647_3096648104_968866   \n",
       "412262    9668240   388766751_9038881013   922267647_3096648104_968866   \n",
       "412263     674799  947159805_81558194550   86152093_47511127657_716022   \n",
       "\n",
       "       process_step            date_time  \n",
       "0            step_3  2017-04-17 15:27:07  \n",
       "1            step_2  2017-04-17 15:26:51  \n",
       "2            step_3  2017-04-17 15:19:22  \n",
       "3            step_2  2017-04-17 15:19:13  \n",
       "4            step_3  2017-04-17 15:18:04  \n",
       "...             ...                  ...  \n",
       "412259        start  2017-05-24 18:46:10  \n",
       "412260        start  2017-05-24 18:45:29  \n",
       "412261       step_1  2017-05-24 18:44:51  \n",
       "412262        start  2017-05-24 18:44:34  \n",
       "412263        start  2017-06-03 12:17:09  \n",
       "\n",
       "[755405 rows x 5 columns]"
      ]
     },
     "execution_count": 16,
     "metadata": {},
     "output_type": "execute_result"
    }
   ],
   "source": [
    "total_web"
   ]
  },
  {
   "cell_type": "code",
   "execution_count": 17,
   "metadata": {},
   "outputs": [
    {
     "data": {
      "text/plain": [
       "process_step\n",
       "start      243945\n",
       "step_1     163193\n",
       "step_2     133062\n",
       "step_3     112242\n",
       "confirm    102963\n",
       "Name: count, dtype: int64"
      ]
     },
     "execution_count": 17,
     "metadata": {},
     "output_type": "execute_result"
    }
   ],
   "source": [
    "total_web.process_step.value_counts()"
   ]
  },
  {
   "cell_type": "code",
   "execution_count": 18,
   "metadata": {},
   "outputs": [],
   "source": [
    "total = pd.merge(total_web, experiment, on='client_id',how='left')"
   ]
  },
  {
   "cell_type": "code",
   "execution_count": 19,
   "metadata": {},
   "outputs": [],
   "source": [
    "total['Variation']=total.groupby('client_id')['Variation'].transform('first')"
   ]
  },
  {
   "cell_type": "code",
   "execution_count": 20,
   "metadata": {},
   "outputs": [
    {
     "data": {
      "text/html": [
       "<div>\n",
       "<style scoped>\n",
       "    .dataframe tbody tr th:only-of-type {\n",
       "        vertical-align: middle;\n",
       "    }\n",
       "\n",
       "    .dataframe tbody tr th {\n",
       "        vertical-align: top;\n",
       "    }\n",
       "\n",
       "    .dataframe thead th {\n",
       "        text-align: right;\n",
       "    }\n",
       "</style>\n",
       "<table border=\"1\" class=\"dataframe\">\n",
       "  <thead>\n",
       "    <tr style=\"text-align: right;\">\n",
       "      <th></th>\n",
       "      <th>client_id</th>\n",
       "      <th>visitor_id</th>\n",
       "      <th>visit_id</th>\n",
       "      <th>process_step</th>\n",
       "      <th>date_time</th>\n",
       "      <th>Variation</th>\n",
       "    </tr>\n",
       "  </thead>\n",
       "  <tbody>\n",
       "    <tr>\n",
       "      <th>0</th>\n",
       "      <td>9988021</td>\n",
       "      <td>580560515_7732621733</td>\n",
       "      <td>781255054_21935453173_531117</td>\n",
       "      <td>step_3</td>\n",
       "      <td>2017-04-17 15:27:07</td>\n",
       "      <td>Test</td>\n",
       "    </tr>\n",
       "    <tr>\n",
       "      <th>1</th>\n",
       "      <td>9988021</td>\n",
       "      <td>580560515_7732621733</td>\n",
       "      <td>781255054_21935453173_531117</td>\n",
       "      <td>step_2</td>\n",
       "      <td>2017-04-17 15:26:51</td>\n",
       "      <td>Test</td>\n",
       "    </tr>\n",
       "    <tr>\n",
       "      <th>2</th>\n",
       "      <td>9988021</td>\n",
       "      <td>580560515_7732621733</td>\n",
       "      <td>781255054_21935453173_531117</td>\n",
       "      <td>step_3</td>\n",
       "      <td>2017-04-17 15:19:22</td>\n",
       "      <td>Test</td>\n",
       "    </tr>\n",
       "    <tr>\n",
       "      <th>3</th>\n",
       "      <td>9988021</td>\n",
       "      <td>580560515_7732621733</td>\n",
       "      <td>781255054_21935453173_531117</td>\n",
       "      <td>step_2</td>\n",
       "      <td>2017-04-17 15:19:13</td>\n",
       "      <td>Test</td>\n",
       "    </tr>\n",
       "    <tr>\n",
       "      <th>4</th>\n",
       "      <td>9988021</td>\n",
       "      <td>580560515_7732621733</td>\n",
       "      <td>781255054_21935453173_531117</td>\n",
       "      <td>step_3</td>\n",
       "      <td>2017-04-17 15:18:04</td>\n",
       "      <td>Test</td>\n",
       "    </tr>\n",
       "    <tr>\n",
       "      <th>...</th>\n",
       "      <td>...</td>\n",
       "      <td>...</td>\n",
       "      <td>...</td>\n",
       "      <td>...</td>\n",
       "      <td>...</td>\n",
       "      <td>...</td>\n",
       "    </tr>\n",
       "    <tr>\n",
       "      <th>755400</th>\n",
       "      <td>9668240</td>\n",
       "      <td>388766751_9038881013</td>\n",
       "      <td>922267647_3096648104_968866</td>\n",
       "      <td>start</td>\n",
       "      <td>2017-05-24 18:46:10</td>\n",
       "      <td>None</td>\n",
       "    </tr>\n",
       "    <tr>\n",
       "      <th>755401</th>\n",
       "      <td>9668240</td>\n",
       "      <td>388766751_9038881013</td>\n",
       "      <td>922267647_3096648104_968866</td>\n",
       "      <td>start</td>\n",
       "      <td>2017-05-24 18:45:29</td>\n",
       "      <td>None</td>\n",
       "    </tr>\n",
       "    <tr>\n",
       "      <th>755402</th>\n",
       "      <td>9668240</td>\n",
       "      <td>388766751_9038881013</td>\n",
       "      <td>922267647_3096648104_968866</td>\n",
       "      <td>step_1</td>\n",
       "      <td>2017-05-24 18:44:51</td>\n",
       "      <td>None</td>\n",
       "    </tr>\n",
       "    <tr>\n",
       "      <th>755403</th>\n",
       "      <td>9668240</td>\n",
       "      <td>388766751_9038881013</td>\n",
       "      <td>922267647_3096648104_968866</td>\n",
       "      <td>start</td>\n",
       "      <td>2017-05-24 18:44:34</td>\n",
       "      <td>None</td>\n",
       "    </tr>\n",
       "    <tr>\n",
       "      <th>755404</th>\n",
       "      <td>674799</td>\n",
       "      <td>947159805_81558194550</td>\n",
       "      <td>86152093_47511127657_716022</td>\n",
       "      <td>start</td>\n",
       "      <td>2017-06-03 12:17:09</td>\n",
       "      <td>None</td>\n",
       "    </tr>\n",
       "  </tbody>\n",
       "</table>\n",
       "<p>755405 rows × 6 columns</p>\n",
       "</div>"
      ],
      "text/plain": [
       "        client_id             visitor_id                      visit_id  \\\n",
       "0         9988021   580560515_7732621733  781255054_21935453173_531117   \n",
       "1         9988021   580560515_7732621733  781255054_21935453173_531117   \n",
       "2         9988021   580560515_7732621733  781255054_21935453173_531117   \n",
       "3         9988021   580560515_7732621733  781255054_21935453173_531117   \n",
       "4         9988021   580560515_7732621733  781255054_21935453173_531117   \n",
       "...           ...                    ...                           ...   \n",
       "755400    9668240   388766751_9038881013   922267647_3096648104_968866   \n",
       "755401    9668240   388766751_9038881013   922267647_3096648104_968866   \n",
       "755402    9668240   388766751_9038881013   922267647_3096648104_968866   \n",
       "755403    9668240   388766751_9038881013   922267647_3096648104_968866   \n",
       "755404     674799  947159805_81558194550   86152093_47511127657_716022   \n",
       "\n",
       "       process_step            date_time Variation  \n",
       "0            step_3  2017-04-17 15:27:07      Test  \n",
       "1            step_2  2017-04-17 15:26:51      Test  \n",
       "2            step_3  2017-04-17 15:19:22      Test  \n",
       "3            step_2  2017-04-17 15:19:13      Test  \n",
       "4            step_3  2017-04-17 15:18:04      Test  \n",
       "...             ...                  ...       ...  \n",
       "755400        start  2017-05-24 18:46:10      None  \n",
       "755401        start  2017-05-24 18:45:29      None  \n",
       "755402       step_1  2017-05-24 18:44:51      None  \n",
       "755403        start  2017-05-24 18:44:34      None  \n",
       "755404        start  2017-06-03 12:17:09      None  \n",
       "\n",
       "[755405 rows x 6 columns]"
      ]
     },
     "execution_count": 20,
     "metadata": {},
     "output_type": "execute_result"
    }
   ],
   "source": [
    "total"
   ]
  },
  {
   "cell_type": "code",
   "execution_count": 21,
   "metadata": {},
   "outputs": [],
   "source": [
    "total.dropna(inplace=True)"
   ]
  },
  {
   "cell_type": "code",
   "execution_count": 22,
   "metadata": {},
   "outputs": [
    {
     "data": {
      "text/plain": [
       "Variation\n",
       "Test       177847\n",
       "Control    143462\n",
       "Name: count, dtype: int64"
      ]
     },
     "execution_count": 22,
     "metadata": {},
     "output_type": "execute_result"
    }
   ],
   "source": [
    "total['Variation'].value_counts(dropna=False)"
   ]
  },
  {
   "cell_type": "code",
   "execution_count": 23,
   "metadata": {},
   "outputs": [
    {
     "data": {
      "text/html": [
       "<div>\n",
       "<style scoped>\n",
       "    .dataframe tbody tr th:only-of-type {\n",
       "        vertical-align: middle;\n",
       "    }\n",
       "\n",
       "    .dataframe tbody tr th {\n",
       "        vertical-align: top;\n",
       "    }\n",
       "\n",
       "    .dataframe thead th {\n",
       "        text-align: right;\n",
       "    }\n",
       "</style>\n",
       "<table border=\"1\" class=\"dataframe\">\n",
       "  <thead>\n",
       "    <tr style=\"text-align: right;\">\n",
       "      <th></th>\n",
       "      <th>client_id</th>\n",
       "      <th>visitor_id</th>\n",
       "      <th>visit_id</th>\n",
       "      <th>process_step</th>\n",
       "      <th>date_time</th>\n",
       "      <th>Variation</th>\n",
       "    </tr>\n",
       "  </thead>\n",
       "  <tbody>\n",
       "    <tr>\n",
       "      <th>0</th>\n",
       "      <td>9988021</td>\n",
       "      <td>580560515_7732621733</td>\n",
       "      <td>781255054_21935453173_531117</td>\n",
       "      <td>step_3</td>\n",
       "      <td>2017-04-17 15:27:07</td>\n",
       "      <td>Test</td>\n",
       "    </tr>\n",
       "    <tr>\n",
       "      <th>1</th>\n",
       "      <td>9988021</td>\n",
       "      <td>580560515_7732621733</td>\n",
       "      <td>781255054_21935453173_531117</td>\n",
       "      <td>step_2</td>\n",
       "      <td>2017-04-17 15:26:51</td>\n",
       "      <td>Test</td>\n",
       "    </tr>\n",
       "    <tr>\n",
       "      <th>2</th>\n",
       "      <td>9988021</td>\n",
       "      <td>580560515_7732621733</td>\n",
       "      <td>781255054_21935453173_531117</td>\n",
       "      <td>step_3</td>\n",
       "      <td>2017-04-17 15:19:22</td>\n",
       "      <td>Test</td>\n",
       "    </tr>\n",
       "    <tr>\n",
       "      <th>3</th>\n",
       "      <td>9988021</td>\n",
       "      <td>580560515_7732621733</td>\n",
       "      <td>781255054_21935453173_531117</td>\n",
       "      <td>step_2</td>\n",
       "      <td>2017-04-17 15:19:13</td>\n",
       "      <td>Test</td>\n",
       "    </tr>\n",
       "    <tr>\n",
       "      <th>4</th>\n",
       "      <td>9988021</td>\n",
       "      <td>580560515_7732621733</td>\n",
       "      <td>781255054_21935453173_531117</td>\n",
       "      <td>step_3</td>\n",
       "      <td>2017-04-17 15:18:04</td>\n",
       "      <td>Test</td>\n",
       "    </tr>\n",
       "    <tr>\n",
       "      <th>...</th>\n",
       "      <td>...</td>\n",
       "      <td>...</td>\n",
       "      <td>...</td>\n",
       "      <td>...</td>\n",
       "      <td>...</td>\n",
       "      <td>...</td>\n",
       "    </tr>\n",
       "    <tr>\n",
       "      <th>637487</th>\n",
       "      <td>1574008</td>\n",
       "      <td>117364417_77840596075</td>\n",
       "      <td>528720790_71583064618_169151</td>\n",
       "      <td>start</td>\n",
       "      <td>2017-05-06 23:43:27</td>\n",
       "      <td>Test</td>\n",
       "    </tr>\n",
       "    <tr>\n",
       "      <th>637532</th>\n",
       "      <td>2908510</td>\n",
       "      <td>814969699_90652851448</td>\n",
       "      <td>562606085_36368381773_92090</td>\n",
       "      <td>start</td>\n",
       "      <td>2017-05-10 22:57:17</td>\n",
       "      <td>Control</td>\n",
       "    </tr>\n",
       "    <tr>\n",
       "      <th>637533</th>\n",
       "      <td>2908510</td>\n",
       "      <td>814969699_90652851448</td>\n",
       "      <td>562606085_36368381773_92090</td>\n",
       "      <td>step_2</td>\n",
       "      <td>2017-05-10 22:56:31</td>\n",
       "      <td>Control</td>\n",
       "    </tr>\n",
       "    <tr>\n",
       "      <th>637534</th>\n",
       "      <td>2908510</td>\n",
       "      <td>814969699_90652851448</td>\n",
       "      <td>562606085_36368381773_92090</td>\n",
       "      <td>step_1</td>\n",
       "      <td>2017-05-10 22:56:23</td>\n",
       "      <td>Control</td>\n",
       "    </tr>\n",
       "    <tr>\n",
       "      <th>637535</th>\n",
       "      <td>2908510</td>\n",
       "      <td>814969699_90652851448</td>\n",
       "      <td>562606085_36368381773_92090</td>\n",
       "      <td>start</td>\n",
       "      <td>2017-05-10 22:56:20</td>\n",
       "      <td>Control</td>\n",
       "    </tr>\n",
       "  </tbody>\n",
       "</table>\n",
       "<p>321309 rows × 6 columns</p>\n",
       "</div>"
      ],
      "text/plain": [
       "        client_id             visitor_id                      visit_id  \\\n",
       "0         9988021   580560515_7732621733  781255054_21935453173_531117   \n",
       "1         9988021   580560515_7732621733  781255054_21935453173_531117   \n",
       "2         9988021   580560515_7732621733  781255054_21935453173_531117   \n",
       "3         9988021   580560515_7732621733  781255054_21935453173_531117   \n",
       "4         9988021   580560515_7732621733  781255054_21935453173_531117   \n",
       "...           ...                    ...                           ...   \n",
       "637487    1574008  117364417_77840596075  528720790_71583064618_169151   \n",
       "637532    2908510  814969699_90652851448   562606085_36368381773_92090   \n",
       "637533    2908510  814969699_90652851448   562606085_36368381773_92090   \n",
       "637534    2908510  814969699_90652851448   562606085_36368381773_92090   \n",
       "637535    2908510  814969699_90652851448   562606085_36368381773_92090   \n",
       "\n",
       "       process_step            date_time Variation  \n",
       "0            step_3  2017-04-17 15:27:07      Test  \n",
       "1            step_2  2017-04-17 15:26:51      Test  \n",
       "2            step_3  2017-04-17 15:19:22      Test  \n",
       "3            step_2  2017-04-17 15:19:13      Test  \n",
       "4            step_3  2017-04-17 15:18:04      Test  \n",
       "...             ...                  ...       ...  \n",
       "637487        start  2017-05-06 23:43:27      Test  \n",
       "637532        start  2017-05-10 22:57:17   Control  \n",
       "637533       step_2  2017-05-10 22:56:31   Control  \n",
       "637534       step_1  2017-05-10 22:56:23   Control  \n",
       "637535        start  2017-05-10 22:56:20   Control  \n",
       "\n",
       "[321309 rows x 6 columns]"
      ]
     },
     "execution_count": 23,
     "metadata": {},
     "output_type": "execute_result"
    }
   ],
   "source": [
    "total"
   ]
  },
  {
   "cell_type": "code",
   "execution_count": 24,
   "metadata": {},
   "outputs": [
    {
     "data": {
      "text/plain": [
       "50500"
      ]
     },
     "execution_count": 24,
     "metadata": {},
     "output_type": "execute_result"
    }
   ],
   "source": [
    "total.client_id.nunique()"
   ]
  },
  {
   "cell_type": "code",
   "execution_count": 25,
   "metadata": {},
   "outputs": [],
   "source": [
    "total.process_step = total['process_step'].apply(lambda x: 'verified' if x in ['confirm'] else x)"
   ]
  },
  {
   "cell_type": "code",
   "execution_count": 26,
   "metadata": {},
   "outputs": [
    {
     "data": {
      "text/html": [
       "<div>\n",
       "<style scoped>\n",
       "    .dataframe tbody tr th:only-of-type {\n",
       "        vertical-align: middle;\n",
       "    }\n",
       "\n",
       "    .dataframe tbody tr th {\n",
       "        vertical-align: top;\n",
       "    }\n",
       "\n",
       "    .dataframe thead th {\n",
       "        text-align: right;\n",
       "    }\n",
       "</style>\n",
       "<table border=\"1\" class=\"dataframe\">\n",
       "  <thead>\n",
       "    <tr style=\"text-align: right;\">\n",
       "      <th></th>\n",
       "      <th>client_id</th>\n",
       "      <th>visitor_id</th>\n",
       "      <th>visit_id</th>\n",
       "      <th>process_step</th>\n",
       "      <th>date_time</th>\n",
       "      <th>Variation</th>\n",
       "    </tr>\n",
       "  </thead>\n",
       "  <tbody>\n",
       "    <tr>\n",
       "      <th>0</th>\n",
       "      <td>9988021</td>\n",
       "      <td>580560515_7732621733</td>\n",
       "      <td>781255054_21935453173_531117</td>\n",
       "      <td>step_3</td>\n",
       "      <td>2017-04-17 15:27:07</td>\n",
       "      <td>Test</td>\n",
       "    </tr>\n",
       "    <tr>\n",
       "      <th>1</th>\n",
       "      <td>9988021</td>\n",
       "      <td>580560515_7732621733</td>\n",
       "      <td>781255054_21935453173_531117</td>\n",
       "      <td>step_2</td>\n",
       "      <td>2017-04-17 15:26:51</td>\n",
       "      <td>Test</td>\n",
       "    </tr>\n",
       "    <tr>\n",
       "      <th>2</th>\n",
       "      <td>9988021</td>\n",
       "      <td>580560515_7732621733</td>\n",
       "      <td>781255054_21935453173_531117</td>\n",
       "      <td>step_3</td>\n",
       "      <td>2017-04-17 15:19:22</td>\n",
       "      <td>Test</td>\n",
       "    </tr>\n",
       "    <tr>\n",
       "      <th>3</th>\n",
       "      <td>9988021</td>\n",
       "      <td>580560515_7732621733</td>\n",
       "      <td>781255054_21935453173_531117</td>\n",
       "      <td>step_2</td>\n",
       "      <td>2017-04-17 15:19:13</td>\n",
       "      <td>Test</td>\n",
       "    </tr>\n",
       "    <tr>\n",
       "      <th>4</th>\n",
       "      <td>9988021</td>\n",
       "      <td>580560515_7732621733</td>\n",
       "      <td>781255054_21935453173_531117</td>\n",
       "      <td>step_3</td>\n",
       "      <td>2017-04-17 15:18:04</td>\n",
       "      <td>Test</td>\n",
       "    </tr>\n",
       "    <tr>\n",
       "      <th>...</th>\n",
       "      <td>...</td>\n",
       "      <td>...</td>\n",
       "      <td>...</td>\n",
       "      <td>...</td>\n",
       "      <td>...</td>\n",
       "      <td>...</td>\n",
       "    </tr>\n",
       "    <tr>\n",
       "      <th>637483</th>\n",
       "      <td>1574008</td>\n",
       "      <td>117364417_77840596075</td>\n",
       "      <td>528720790_71583064618_169151</td>\n",
       "      <td>verified</td>\n",
       "      <td>2017-05-06 23:51:05</td>\n",
       "      <td>Test</td>\n",
       "    </tr>\n",
       "    <tr>\n",
       "      <th>637484</th>\n",
       "      <td>1574008</td>\n",
       "      <td>117364417_77840596075</td>\n",
       "      <td>528720790_71583064618_169151</td>\n",
       "      <td>step_3</td>\n",
       "      <td>2017-05-06 23:50:40</td>\n",
       "      <td>Test</td>\n",
       "    </tr>\n",
       "    <tr>\n",
       "      <th>637485</th>\n",
       "      <td>1574008</td>\n",
       "      <td>117364417_77840596075</td>\n",
       "      <td>528720790_71583064618_169151</td>\n",
       "      <td>step_2</td>\n",
       "      <td>2017-05-06 23:43:47</td>\n",
       "      <td>Test</td>\n",
       "    </tr>\n",
       "    <tr>\n",
       "      <th>637486</th>\n",
       "      <td>1574008</td>\n",
       "      <td>117364417_77840596075</td>\n",
       "      <td>528720790_71583064618_169151</td>\n",
       "      <td>step_1</td>\n",
       "      <td>2017-05-06 23:43:34</td>\n",
       "      <td>Test</td>\n",
       "    </tr>\n",
       "    <tr>\n",
       "      <th>637487</th>\n",
       "      <td>1574008</td>\n",
       "      <td>117364417_77840596075</td>\n",
       "      <td>528720790_71583064618_169151</td>\n",
       "      <td>start</td>\n",
       "      <td>2017-05-06 23:43:27</td>\n",
       "      <td>Test</td>\n",
       "    </tr>\n",
       "  </tbody>\n",
       "</table>\n",
       "<p>177847 rows × 6 columns</p>\n",
       "</div>"
      ],
      "text/plain": [
       "        client_id             visitor_id                      visit_id  \\\n",
       "0         9988021   580560515_7732621733  781255054_21935453173_531117   \n",
       "1         9988021   580560515_7732621733  781255054_21935453173_531117   \n",
       "2         9988021   580560515_7732621733  781255054_21935453173_531117   \n",
       "3         9988021   580560515_7732621733  781255054_21935453173_531117   \n",
       "4         9988021   580560515_7732621733  781255054_21935453173_531117   \n",
       "...           ...                    ...                           ...   \n",
       "637483    1574008  117364417_77840596075  528720790_71583064618_169151   \n",
       "637484    1574008  117364417_77840596075  528720790_71583064618_169151   \n",
       "637485    1574008  117364417_77840596075  528720790_71583064618_169151   \n",
       "637486    1574008  117364417_77840596075  528720790_71583064618_169151   \n",
       "637487    1574008  117364417_77840596075  528720790_71583064618_169151   \n",
       "\n",
       "       process_step            date_time Variation  \n",
       "0            step_3  2017-04-17 15:27:07      Test  \n",
       "1            step_2  2017-04-17 15:26:51      Test  \n",
       "2            step_3  2017-04-17 15:19:22      Test  \n",
       "3            step_2  2017-04-17 15:19:13      Test  \n",
       "4            step_3  2017-04-17 15:18:04      Test  \n",
       "...             ...                  ...       ...  \n",
       "637483     verified  2017-05-06 23:51:05      Test  \n",
       "637484       step_3  2017-05-06 23:50:40      Test  \n",
       "637485       step_2  2017-05-06 23:43:47      Test  \n",
       "637486       step_1  2017-05-06 23:43:34      Test  \n",
       "637487        start  2017-05-06 23:43:27      Test  \n",
       "\n",
       "[177847 rows x 6 columns]"
      ]
     },
     "execution_count": 26,
     "metadata": {},
     "output_type": "execute_result"
    }
   ],
   "source": [
    "tested = total[total['Variation'] == 'Test']\n",
    "\n",
    "tested"
   ]
  },
  {
   "cell_type": "code",
   "execution_count": 27,
   "metadata": {},
   "outputs": [
    {
     "data": {
      "text/plain": [
       "26968"
      ]
     },
     "execution_count": 27,
     "metadata": {},
     "output_type": "execute_result"
    }
   ],
   "source": [
    "tested.client_id.nunique()"
   ]
  },
  {
   "cell_type": "code",
   "execution_count": 28,
   "metadata": {},
   "outputs": [],
   "source": [
    "confirm_users_count = tested[tested['process_step'] == 'verified'].shape[0]\n",
    "\n",
    "# Count the total number of users\n",
    "total_users_count = tested.shape[0]\n",
    "\n",
    "# Calculate the proportion of users who reach the confirm step\n",
    "confirm_proportion = confirm_users_count / total_users_count"
   ]
  },
  {
   "cell_type": "code",
   "execution_count": 29,
   "metadata": {},
   "outputs": [
    {
     "data": {
      "text/html": [
       "<div>\n",
       "<style scoped>\n",
       "    .dataframe tbody tr th:only-of-type {\n",
       "        vertical-align: middle;\n",
       "    }\n",
       "\n",
       "    .dataframe tbody tr th {\n",
       "        vertical-align: top;\n",
       "    }\n",
       "\n",
       "    .dataframe thead th {\n",
       "        text-align: right;\n",
       "    }\n",
       "</style>\n",
       "<table border=\"1\" class=\"dataframe\">\n",
       "  <thead>\n",
       "    <tr style=\"text-align: right;\">\n",
       "      <th></th>\n",
       "      <th>client_id</th>\n",
       "      <th>visitor_id</th>\n",
       "      <th>visit_id</th>\n",
       "      <th>process_step</th>\n",
       "      <th>date_time</th>\n",
       "      <th>Variation</th>\n",
       "    </tr>\n",
       "  </thead>\n",
       "  <tbody>\n",
       "    <tr>\n",
       "      <th>13</th>\n",
       "      <td>4033851</td>\n",
       "      <td>762728880_76361333336</td>\n",
       "      <td>949661017_22392791362_127391</td>\n",
       "      <td>verified</td>\n",
       "      <td>2017-04-05 12:29:03</td>\n",
       "      <td>Control</td>\n",
       "    </tr>\n",
       "    <tr>\n",
       "      <th>14</th>\n",
       "      <td>4033851</td>\n",
       "      <td>762728880_76361333336</td>\n",
       "      <td>949661017_22392791362_127391</td>\n",
       "      <td>verified</td>\n",
       "      <td>2017-04-05 12:29:01</td>\n",
       "      <td>Control</td>\n",
       "    </tr>\n",
       "    <tr>\n",
       "      <th>15</th>\n",
       "      <td>4033851</td>\n",
       "      <td>762728880_76361333336</td>\n",
       "      <td>949661017_22392791362_127391</td>\n",
       "      <td>verified</td>\n",
       "      <td>2017-04-05 12:28:52</td>\n",
       "      <td>Control</td>\n",
       "    </tr>\n",
       "    <tr>\n",
       "      <th>16</th>\n",
       "      <td>4033851</td>\n",
       "      <td>762728880_76361333336</td>\n",
       "      <td>949661017_22392791362_127391</td>\n",
       "      <td>step_3</td>\n",
       "      <td>2017-04-05 12:26:08</td>\n",
       "      <td>Control</td>\n",
       "    </tr>\n",
       "    <tr>\n",
       "      <th>17</th>\n",
       "      <td>4033851</td>\n",
       "      <td>762728880_76361333336</td>\n",
       "      <td>949661017_22392791362_127391</td>\n",
       "      <td>step_2</td>\n",
       "      <td>2017-04-05 12:24:43</td>\n",
       "      <td>Control</td>\n",
       "    </tr>\n",
       "    <tr>\n",
       "      <th>...</th>\n",
       "      <td>...</td>\n",
       "      <td>...</td>\n",
       "      <td>...</td>\n",
       "      <td>...</td>\n",
       "      <td>...</td>\n",
       "      <td>...</td>\n",
       "    </tr>\n",
       "    <tr>\n",
       "      <th>637471</th>\n",
       "      <td>433098</td>\n",
       "      <td>5505424_50616523266</td>\n",
       "      <td>773565250_67577573147_389841</td>\n",
       "      <td>start</td>\n",
       "      <td>2017-05-13 15:30:47</td>\n",
       "      <td>Control</td>\n",
       "    </tr>\n",
       "    <tr>\n",
       "      <th>637532</th>\n",
       "      <td>2908510</td>\n",
       "      <td>814969699_90652851448</td>\n",
       "      <td>562606085_36368381773_92090</td>\n",
       "      <td>start</td>\n",
       "      <td>2017-05-10 22:57:17</td>\n",
       "      <td>Control</td>\n",
       "    </tr>\n",
       "    <tr>\n",
       "      <th>637533</th>\n",
       "      <td>2908510</td>\n",
       "      <td>814969699_90652851448</td>\n",
       "      <td>562606085_36368381773_92090</td>\n",
       "      <td>step_2</td>\n",
       "      <td>2017-05-10 22:56:31</td>\n",
       "      <td>Control</td>\n",
       "    </tr>\n",
       "    <tr>\n",
       "      <th>637534</th>\n",
       "      <td>2908510</td>\n",
       "      <td>814969699_90652851448</td>\n",
       "      <td>562606085_36368381773_92090</td>\n",
       "      <td>step_1</td>\n",
       "      <td>2017-05-10 22:56:23</td>\n",
       "      <td>Control</td>\n",
       "    </tr>\n",
       "    <tr>\n",
       "      <th>637535</th>\n",
       "      <td>2908510</td>\n",
       "      <td>814969699_90652851448</td>\n",
       "      <td>562606085_36368381773_92090</td>\n",
       "      <td>start</td>\n",
       "      <td>2017-05-10 22:56:20</td>\n",
       "      <td>Control</td>\n",
       "    </tr>\n",
       "  </tbody>\n",
       "</table>\n",
       "<p>143462 rows × 6 columns</p>\n",
       "</div>"
      ],
      "text/plain": [
       "        client_id             visitor_id                      visit_id  \\\n",
       "13        4033851  762728880_76361333336  949661017_22392791362_127391   \n",
       "14        4033851  762728880_76361333336  949661017_22392791362_127391   \n",
       "15        4033851  762728880_76361333336  949661017_22392791362_127391   \n",
       "16        4033851  762728880_76361333336  949661017_22392791362_127391   \n",
       "17        4033851  762728880_76361333336  949661017_22392791362_127391   \n",
       "...           ...                    ...                           ...   \n",
       "637471     433098    5505424_50616523266  773565250_67577573147_389841   \n",
       "637532    2908510  814969699_90652851448   562606085_36368381773_92090   \n",
       "637533    2908510  814969699_90652851448   562606085_36368381773_92090   \n",
       "637534    2908510  814969699_90652851448   562606085_36368381773_92090   \n",
       "637535    2908510  814969699_90652851448   562606085_36368381773_92090   \n",
       "\n",
       "       process_step            date_time Variation  \n",
       "13         verified  2017-04-05 12:29:03   Control  \n",
       "14         verified  2017-04-05 12:29:01   Control  \n",
       "15         verified  2017-04-05 12:28:52   Control  \n",
       "16           step_3  2017-04-05 12:26:08   Control  \n",
       "17           step_2  2017-04-05 12:24:43   Control  \n",
       "...             ...                  ...       ...  \n",
       "637471        start  2017-05-13 15:30:47   Control  \n",
       "637532        start  2017-05-10 22:57:17   Control  \n",
       "637533       step_2  2017-05-10 22:56:31   Control  \n",
       "637534       step_1  2017-05-10 22:56:23   Control  \n",
       "637535        start  2017-05-10 22:56:20   Control  \n",
       "\n",
       "[143462 rows x 6 columns]"
      ]
     },
     "execution_count": 29,
     "metadata": {},
     "output_type": "execute_result"
    }
   ],
   "source": [
    "control = total[total['Variation'] == 'Control']\n",
    "\n",
    "control"
   ]
  },
  {
   "cell_type": "code",
   "execution_count": 30,
   "metadata": {},
   "outputs": [
    {
     "data": {
      "text/plain": [
       "23532"
      ]
     },
     "execution_count": 30,
     "metadata": {},
     "output_type": "execute_result"
    }
   ],
   "source": [
    "control.client_id.nunique()"
   ]
  },
  {
   "cell_type": "code",
   "execution_count": 31,
   "metadata": {},
   "outputs": [],
   "source": [
    "confirm_users_count_1 = control[control['process_step'] == 'verified'].shape[0]\n",
    "\n",
    "# Count the total number of users\n",
    "total_users_count_1 = control.shape[0]\n",
    "\n",
    "# Calculate the proportion of users who reach the confirm step\n",
    "confirm_proportion_1 = confirm_users_count_1 / total_users_count_1"
   ]
  },
  {
   "cell_type": "code",
   "execution_count": 32,
   "metadata": {},
   "outputs": [],
   "source": [
    "difference = confirm_proportion - confirm_proportion_1"
   ]
  },
  {
   "cell_type": "markdown",
   "metadata": {},
   "source": [
    "Client Behavior Analysis"
   ]
  },
  {
   "cell_type": "code",
   "execution_count": 33,
   "metadata": {},
   "outputs": [],
   "source": [
    "#Answer the following questions about demographics:\n",
    "\n",
    "#Who are the primary clients using this online process?\n",
    "\n",
    "#Next, carry out a client behaviour analysis to answer any additional relevant questions you think are important."
   ]
  },
  {
   "cell_type": "markdown",
   "metadata": {},
   "source": [
    "## **Completion Rate: The proportion of users who reach the final 'verified' step.**"
   ]
  },
  {
   "cell_type": "code",
   "execution_count": 34,
   "metadata": {},
   "outputs": [
    {
     "name": "stdout",
     "output_type": "stream",
     "text": [
      "Proportion of users who reached the verified step in the Test environment: 0.1446299347191687\n",
      "Proportion of users who reached the verified step in the Control environment: 0.12201837420362187\n",
      "Difference of the verified proportion rates is: 0.022611560515546844\n"
     ]
    }
   ],
   "source": [
    "print(\"Proportion of users who reached the verified step in the Test environment:\", confirm_proportion)\n",
    "print(\"Proportion of users who reached the verified step in the Control environment:\", confirm_proportion_1)\n",
    "print(\"Difference of the verified proportion rates is:\", difference)"
   ]
  },
  {
   "cell_type": "code",
   "execution_count": 35,
   "metadata": {},
   "outputs": [
    {
     "data": {
      "image/png": "[encoded data removed]",
      "text/plain": [
       "<Figure size 640x480 with 1 Axes>"
      ]
     },
     "metadata": {},
     "output_type": "display_data"
    }
   ],
   "source": [
    "environments = ['Tested', 'Control']\n",
    "proportions = [0.1446299347191687, 0.12201837420362187]\n",
    "\n",
    "# Plot\n",
    "plt.bar(environments, proportions, color=['gold', 'silver'])\n",
    "plt.xlabel('Environment')\n",
    "plt.ylabel('Users who Reached Verified Step')\n",
    "plt.title('Proportion of Users who Reached Verified Step in Different Environments')\n",
    "plt.show()"
   ]
  },
  {
   "cell_type": "code",
   "execution_count": 36,
   "metadata": {},
   "outputs": [
    {
     "data": {
      "text/html": [
       "<div>\n",
       "<style scoped>\n",
       "    .dataframe tbody tr th:only-of-type {\n",
       "        vertical-align: middle;\n",
       "    }\n",
       "\n",
       "    .dataframe tbody tr th {\n",
       "        vertical-align: top;\n",
       "    }\n",
       "\n",
       "    .dataframe thead th {\n",
       "        text-align: right;\n",
       "    }\n",
       "</style>\n",
       "<table border=\"1\" class=\"dataframe\">\n",
       "  <thead>\n",
       "    <tr style=\"text-align: right;\">\n",
       "      <th>process_step</th>\n",
       "      <th>start</th>\n",
       "      <th>step_1</th>\n",
       "      <th>step_2</th>\n",
       "      <th>step_3</th>\n",
       "      <th>verified</th>\n",
       "    </tr>\n",
       "    <tr>\n",
       "      <th>Variation</th>\n",
       "      <th></th>\n",
       "      <th></th>\n",
       "      <th></th>\n",
       "      <th></th>\n",
       "      <th></th>\n",
       "    </tr>\n",
       "  </thead>\n",
       "  <tbody>\n",
       "    <tr>\n",
       "      <th>Control</th>\n",
       "      <td>47608</td>\n",
       "      <td>29668</td>\n",
       "      <td>25886</td>\n",
       "      <td>22795</td>\n",
       "      <td>17505</td>\n",
       "    </tr>\n",
       "    <tr>\n",
       "      <th>Test</th>\n",
       "      <td>56474</td>\n",
       "      <td>38768</td>\n",
       "      <td>30989</td>\n",
       "      <td>25894</td>\n",
       "      <td>25722</td>\n",
       "    </tr>\n",
       "  </tbody>\n",
       "</table>\n",
       "</div>"
      ],
      "text/plain": [
       "process_step  start  step_1  step_2  step_3  verified\n",
       "Variation                                            \n",
       "Control       47608   29668   25886   22795     17505\n",
       "Test          56474   38768   30989   25894     25722"
      ]
     },
     "execution_count": 36,
     "metadata": {},
     "output_type": "execute_result"
    }
   ],
   "source": [
    "crosstab_result = pd.crosstab(total['Variation'], total['process_step'])\n",
    "\n",
    "crosstab_result"
   ]
  },
  {
   "cell_type": "code",
   "execution_count": 37,
   "metadata": {},
   "outputs": [
    {
     "data": {
      "text/plain": [
       "(508.4364763023511, 1.0030756272740076e-108)"
      ]
     },
     "execution_count": 37,
     "metadata": {},
     "output_type": "execute_result"
    }
   ],
   "source": [
    "from scipy.stats import chi2_contingency\n",
    "\n",
    "chi2_statistic, chi2_p_value, _, _ = chi2_contingency(crosstab_result)\n",
    "\n",
    "chi2_statistic, chi2_p_value\n",
    "\n",
    "#P-value is <= 0.05, this indicates that there is a significant association betweent the variables.  "
   ]
  },
  {
   "cell_type": "code",
   "execution_count": 38,
   "metadata": {},
   "outputs": [
    {
     "data": {
      "text/plain": [
       "Text(0.5, 1.0, 'Rate by Steps')"
      ]
     },
     "execution_count": 38,
     "metadata": {},
     "output_type": "execute_result"
    },
    {
     "data": {
      "image/png": "[encoded data removed]",
      "text/plain": [
       "<Figure size 640x480 with 1 Axes>"
      ]
     },
     "metadata": {},
     "output_type": "display_data"
    }
   ],
   "source": [
    "crosstab_result.plot(kind=\"bar\", stacked=False)\n",
    "plt.title(\"Rate by Steps\")"
   ]
  },
  {
   "cell_type": "markdown",
   "metadata": {},
   "source": [
    "## **Time Spent on Each Step: The average duration users spend on each step.**"
   ]
  },
  {
   "cell_type": "code",
   "execution_count": 39,
   "metadata": {},
   "outputs": [
    {
     "name": "stdout",
     "output_type": "stream",
     "text": [
      "Unique steps in dataset: ['start' 'step_1' 'step_2' 'step_3' 'verified']\n",
      "Step map: {'start': 0, 'step_1': 1, 'step_2': 2, 'step_3': 3, 'verified': 4}\n",
      "Average Time Spent from One Step to Next (in hours):\n",
      "From start to step_1: 0.25 hours\n",
      "From step_1 to step_2: 0.01 hours\n",
      "From step_2 to step_3: 0.08 hours\n",
      "From step_3 to verified: 0.42 hours\n",
      "\n",
      "Error Rate (proportion of transitions that are errors):\n",
      "25.81%\n"
     ]
    }
   ],
   "source": [
    "#THIS IS IN HOURS\n",
    "\n",
    "total['date_time'] = pd.to_datetime(total['date_time'])\n",
    "total.sort_values(by=['client_id', 'date_time'], inplace=True)\n",
    "\n",
    "# Calculate the duration to the next step for each user and identify the next step\n",
    "total['next_date_time'] = total.groupby('client_id')['date_time'].shift(-1)\n",
    "total['next_process_step'] = total.groupby('client_id')['process_step'].shift(-1)\n",
    "total['duration'] = (total['next_date_time'] - total['date_time']).dt.total_seconds() / 3600\n",
    "\n",
    "# Define the expected sequence of steps\n",
    "expected_sequence = ['start', 'step_1', 'step_2', 'step_3', 'verified']\n",
    "\n",
    "# Ensure that process_step names are correctly spelled and formatted\n",
    "print(\"Unique steps in dataset:\", total['process_step'].unique())\n",
    "\n",
    "# Map process steps to their respective sequence order\n",
    "step_map = {step: i for i, step in enumerate(expected_sequence)}\n",
    "print(\"Step map:\", step_map)\n",
    "\n",
    "# Apply the valid transition filter for calculating durations\n",
    "total['is_valid_transition'] = total.apply(\n",
    "    lambda x: step_map.get(x['process_step'], -1) + 1 == step_map.get(x['next_process_step'], -1), axis=1)\n",
    "valid_transitions = total[total['is_valid_transition']]\n",
    "\n",
    "# Calculate average durations for valid transitions\n",
    "average_durations = valid_transitions.groupby(['process_step', 'next_process_step'])['duration'].mean()\n",
    "\n",
    "# Calculate error rates based on backward movements\n",
    "total['is_error_transition'] = total.apply(\n",
    "    lambda x: step_map.get(x['process_step'], -1) > step_map.get(x['next_process_step'], -1), axis=1)\n",
    "error_counts = total[total['is_error_transition']]\n",
    "error_rate = error_counts.shape[0] / total.shape[0]\n",
    "\n",
    "# Print results\n",
    "print(\"Average Time Spent from One Step to Next (in hours):\")\n",
    "for index, value in average_durations.items():\n",
    "    print(f\"From {index[0]} to {index[1]}: {value:.2f} hours\")\n",
    "\n",
    "print(\"\\nError Rate (proportion of transitions that are errors):\")\n",
    "print(f\"{error_rate:.2%}\")"
   ]
  },
  {
   "cell_type": "code",
   "execution_count": 40,
   "metadata": {},
   "outputs": [
    {
     "name": "stdout",
     "output_type": "stream",
     "text": [
      "Average Duration by Process Step:\n",
      "  process_step  average_duration\n",
      "0        start         17.070567\n",
      "1       step_1          6.881706\n",
      "2       step_2          2.757191\n",
      "3       step_3          5.453728\n",
      "4     verified         86.269390\n",
      "\n",
      "Total average duration for the whole process from start to verified: 74.90 units of time\n"
     ]
    }
   ],
   "source": [
    "# THIS IS IN SECONDS FOR TOTAL\n",
    "\n",
    "# Step 1: Filter clients who have completed the process from start to verified\n",
    "# Group by client_id and visitor_id and check if they have both 'start' and 'verified' steps\n",
    "valid_clients = total.groupby(['client_id', 'visitor_id'])['process_step'].agg(lambda x: set(['start', 'verified']).issubset(set(x)))\n",
    "\n",
    "# Filter the DataFrame for valid clients\n",
    "valid_clients = valid_clients[valid_clients].index\n",
    "filtered_df = total[total.set_index(['client_id', 'visitor_id']).index.isin(valid_clients)].reset_index()\n",
    "\n",
    "# Step 2: Calculate the average duration for each process step\n",
    "average_duration_by_step = filtered_df.groupby('process_step')['duration'].mean().reset_index()\n",
    "average_duration_by_step.columns = ['process_step', 'average_duration']\n",
    "\n",
    "# Step 3: Calculate the total average duration for the whole process\n",
    "# Assuming the duration column represents the time taken to move to the next step\n",
    "total_duration_by_client = filtered_df.groupby(['client_id', 'visitor_id'])['duration'].sum().mean()\n",
    "\n",
    "# Display the results\n",
    "print(\"Average Duration by Process Step:\")\n",
    "print(average_duration_by_step)\n",
    "print(\"\\nTotal average duration for the whole process from start to verified: {:.2f} units of time\".format(total_duration_by_client))"
   ]
  },
  {
   "cell_type": "code",
   "execution_count": 41,
   "metadata": {},
   "outputs": [
    {
     "data": {
      "text/plain": [
       "Text(0.5, 1.0, 'Avg Duration by Process Step - Total')"
      ]
     },
     "execution_count": 41,
     "metadata": {},
     "output_type": "execute_result"
    },
    {
     "data": {
      "image/png": "[encoded data removed]",
      "text/plain": [
       "<Figure size 640x480 with 1 Axes>"
      ]
     },
     "metadata": {},
     "output_type": "display_data"
    }
   ],
   "source": [
    "average_duration_by_step.plot(kind=\"bar\", stacked=False, color='darkred')\n",
    "plt.title(\"Avg Duration by Process Step - Total\")"
   ]
  },
  {
   "cell_type": "code",
   "execution_count": 42,
   "metadata": {},
   "outputs": [
    {
     "name": "stderr",
     "output_type": "stream",
     "text": [
      "/var/folders/mg/fz6127296bzcnc_rxkv52kvm0000gn/T/ipykernel_6840/983132256.py:2: SettingWithCopyWarning: \n",
      "A value is trying to be set on a copy of a slice from a DataFrame.\n",
      "Try using .loc[row_indexer,col_indexer] = value instead\n",
      "\n",
      "See the caveats in the documentation: https://pandas.pydata.org/pandas-docs/stable/user_guide/indexing.html#returning-a-view-versus-a-copy\n",
      "  control['date_time'] = pd.to_datetime(control['date_time'])\n",
      "/var/folders/mg/fz6127296bzcnc_rxkv52kvm0000gn/T/ipykernel_6840/983132256.py:3: SettingWithCopyWarning: \n",
      "A value is trying to be set on a copy of a slice from a DataFrame\n",
      "\n",
      "See the caveats in the documentation: https://pandas.pydata.org/pandas-docs/stable/user_guide/indexing.html#returning-a-view-versus-a-copy\n",
      "  control.sort_values(by=['client_id', 'date_time'], inplace=True)\n",
      "/var/folders/mg/fz6127296bzcnc_rxkv52kvm0000gn/T/ipykernel_6840/983132256.py:6: SettingWithCopyWarning: \n",
      "A value is trying to be set on a copy of a slice from a DataFrame.\n",
      "Try using .loc[row_indexer,col_indexer] = value instead\n",
      "\n",
      "See the caveats in the documentation: https://pandas.pydata.org/pandas-docs/stable/user_guide/indexing.html#returning-a-view-versus-a-copy\n",
      "  control['next_date_time'] = control.groupby('client_id')['date_time'].shift(-1)\n",
      "/var/folders/mg/fz6127296bzcnc_rxkv52kvm0000gn/T/ipykernel_6840/983132256.py:7: SettingWithCopyWarning: \n",
      "A value is trying to be set on a copy of a slice from a DataFrame.\n",
      "Try using .loc[row_indexer,col_indexer] = value instead\n",
      "\n",
      "See the caveats in the documentation: https://pandas.pydata.org/pandas-docs/stable/user_guide/indexing.html#returning-a-view-versus-a-copy\n",
      "  control['next_process_step'] = control.groupby('client_id')['process_step'].shift(-1)\n",
      "/var/folders/mg/fz6127296bzcnc_rxkv52kvm0000gn/T/ipykernel_6840/983132256.py:8: SettingWithCopyWarning: \n",
      "A value is trying to be set on a copy of a slice from a DataFrame.\n",
      "Try using .loc[row_indexer,col_indexer] = value instead\n",
      "\n",
      "See the caveats in the documentation: https://pandas.pydata.org/pandas-docs/stable/user_guide/indexing.html#returning-a-view-versus-a-copy\n",
      "  control['duration'] = (control['next_date_time'] - control['date_time']).dt.total_seconds() / 3600\n"
     ]
    },
    {
     "name": "stdout",
     "output_type": "stream",
     "text": [
      "Unique steps in dataset: ['start' 'step_1' 'step_2' 'step_3' 'verified']\n",
      "Step map: {'start': 0, 'step_1': 1, 'step_2': 2, 'step_3': 3, 'verified': 4}\n",
      "Average Time Spent from One Step to Next (in hours):\n",
      "From start to step_1: 0.25 hours\n",
      "From step_1 to step_2: 0.01 hours\n",
      "From step_2 to step_3: 0.02 hours\n",
      "From step_3 to verified: 0.42 hours\n"
     ]
    },
    {
     "name": "stderr",
     "output_type": "stream",
     "text": [
      "/var/folders/mg/fz6127296bzcnc_rxkv52kvm0000gn/T/ipykernel_6840/983132256.py:21: SettingWithCopyWarning: \n",
      "A value is trying to be set on a copy of a slice from a DataFrame.\n",
      "Try using .loc[row_indexer,col_indexer] = value instead\n",
      "\n",
      "See the caveats in the documentation: https://pandas.pydata.org/pandas-docs/stable/user_guide/indexing.html#returning-a-view-versus-a-copy\n",
      "  control['is_valid_transition'] = control.apply(\n"
     ]
    }
   ],
   "source": [
    "# THIS IS IN HOUR FOR CONTROL\n",
    "control['date_time'] = pd.to_datetime(control['date_time'])\n",
    "control.sort_values(by=['client_id', 'date_time'], inplace=True)\n",
    "\n",
    "# Calculate the duration to the next step for each user and identify the next step\n",
    "control['next_date_time'] = control.groupby('client_id')['date_time'].shift(-1)\n",
    "control['next_process_step'] = control.groupby('client_id')['process_step'].shift(-1)\n",
    "control['duration'] = (control['next_date_time'] - control['date_time']).dt.total_seconds() / 3600\n",
    "\n",
    "# Define the expected sequence of steps\n",
    "expected_sequence = ['start', 'step_1', 'step_2', 'step_3', 'verified']\n",
    "\n",
    "# Ensure that process_step names are correctly spelled and formatted\n",
    "print(\"Unique steps in dataset:\", control['process_step'].unique())\n",
    "\n",
    "# Map process steps to their respective sequence order\n",
    "step_map = {step: i for i, step in enumerate(expected_sequence)}\n",
    "print(\"Step map:\", step_map)\n",
    "\n",
    "# Apply the valid transition filter for calculating durations\n",
    "control['is_valid_transition'] = control.apply(\n",
    "    lambda x: step_map.get(x['process_step'], -1) + 1 == step_map.get(x['next_process_step'], -1), axis=1)\n",
    "valid_transitions = control[control['is_valid_transition']]\n",
    "\n",
    "# Calculate average durations for valid transitions\n",
    "average_durations = valid_transitions.groupby(['process_step', 'next_process_step'])['duration'].mean()\n",
    "\n",
    "print(\"Average Time Spent from One Step to Next (in hours):\")\n",
    "for index, value in average_durations.items():\n",
    "    print(f\"From {index[0]} to {index[1]}: {value:.2f} hours\")\n"
   ]
  },
  {
   "cell_type": "code",
   "execution_count": 43,
   "metadata": {},
   "outputs": [
    {
     "name": "stderr",
     "output_type": "stream",
     "text": [
      "/var/folders/mg/fz6127296bzcnc_rxkv52kvm0000gn/T/ipykernel_6840/3197022844.py:3: SettingWithCopyWarning: \n",
      "A value is trying to be set on a copy of a slice from a DataFrame.\n",
      "Try using .loc[row_indexer,col_indexer] = value instead\n",
      "\n",
      "See the caveats in the documentation: https://pandas.pydata.org/pandas-docs/stable/user_guide/indexing.html#returning-a-view-versus-a-copy\n",
      "  tested['date_time'] = pd.to_datetime(tested['date_time'])\n",
      "/var/folders/mg/fz6127296bzcnc_rxkv52kvm0000gn/T/ipykernel_6840/3197022844.py:4: SettingWithCopyWarning: \n",
      "A value is trying to be set on a copy of a slice from a DataFrame\n",
      "\n",
      "See the caveats in the documentation: https://pandas.pydata.org/pandas-docs/stable/user_guide/indexing.html#returning-a-view-versus-a-copy\n",
      "  tested.sort_values(by=['client_id', 'date_time'], inplace=True)\n",
      "/var/folders/mg/fz6127296bzcnc_rxkv52kvm0000gn/T/ipykernel_6840/3197022844.py:7: SettingWithCopyWarning: \n",
      "A value is trying to be set on a copy of a slice from a DataFrame.\n",
      "Try using .loc[row_indexer,col_indexer] = value instead\n",
      "\n",
      "See the caveats in the documentation: https://pandas.pydata.org/pandas-docs/stable/user_guide/indexing.html#returning-a-view-versus-a-copy\n",
      "  tested['next_date_time'] = tested.groupby('client_id')['date_time'].shift(-1)\n",
      "/var/folders/mg/fz6127296bzcnc_rxkv52kvm0000gn/T/ipykernel_6840/3197022844.py:8: SettingWithCopyWarning: \n",
      "A value is trying to be set on a copy of a slice from a DataFrame.\n",
      "Try using .loc[row_indexer,col_indexer] = value instead\n",
      "\n",
      "See the caveats in the documentation: https://pandas.pydata.org/pandas-docs/stable/user_guide/indexing.html#returning-a-view-versus-a-copy\n",
      "  tested['next_process_step'] = tested.groupby('client_id')['process_step'].shift(-1)\n",
      "/var/folders/mg/fz6127296bzcnc_rxkv52kvm0000gn/T/ipykernel_6840/3197022844.py:9: SettingWithCopyWarning: \n",
      "A value is trying to be set on a copy of a slice from a DataFrame.\n",
      "Try using .loc[row_indexer,col_indexer] = value instead\n",
      "\n",
      "See the caveats in the documentation: https://pandas.pydata.org/pandas-docs/stable/user_guide/indexing.html#returning-a-view-versus-a-copy\n",
      "  tested['duration'] = (tested['next_date_time'] - tested['date_time']).dt.total_seconds() / 3600\n"
     ]
    },
    {
     "name": "stdout",
     "output_type": "stream",
     "text": [
      "Unique steps in dataset: ['start' 'step_1' 'step_2' 'step_3' 'verified']\n",
      "Step map: {'start': 0, 'step_1': 1, 'step_2': 2, 'step_3': 3, 'verified': 4}\n",
      "Average Time Spent from One Step to Next (in hours):\n",
      "From start to step_1: 0.25 hours\n",
      "From step_1 to step_2: 0.01 hours\n",
      "From step_2 to step_3: 0.13 hours\n",
      "From step_3 to verified: 0.42 hours\n"
     ]
    },
    {
     "name": "stderr",
     "output_type": "stream",
     "text": [
      "/var/folders/mg/fz6127296bzcnc_rxkv52kvm0000gn/T/ipykernel_6840/3197022844.py:22: SettingWithCopyWarning: \n",
      "A value is trying to be set on a copy of a slice from a DataFrame.\n",
      "Try using .loc[row_indexer,col_indexer] = value instead\n",
      "\n",
      "See the caveats in the documentation: https://pandas.pydata.org/pandas-docs/stable/user_guide/indexing.html#returning-a-view-versus-a-copy\n",
      "  tested['is_valid_transition'] = tested.apply(\n"
     ]
    }
   ],
   "source": [
    "# THIS IS IN HOUR FOR TESTED\n",
    "\n",
    "tested['date_time'] = pd.to_datetime(tested['date_time'])\n",
    "tested.sort_values(by=['client_id', 'date_time'], inplace=True)\n",
    "\n",
    "# Calculate the duration to the next step for each user and identify the next step\n",
    "tested['next_date_time'] = tested.groupby('client_id')['date_time'].shift(-1)\n",
    "tested['next_process_step'] = tested.groupby('client_id')['process_step'].shift(-1)\n",
    "tested['duration'] = (tested['next_date_time'] - tested['date_time']).dt.total_seconds() / 3600\n",
    "\n",
    "# Define the expected sequence of steps\n",
    "expected_sequence = ['start', 'step_1', 'step_2', 'step_3', 'verified']\n",
    "\n",
    "# Ensure that process_step names are correctly spelled and formatted\n",
    "print(\"Unique steps in dataset:\", tested['process_step'].unique())\n",
    "\n",
    "# Map process steps to their respective sequence order\n",
    "step_map = {step: i for i, step in enumerate(expected_sequence)}\n",
    "print(\"Step map:\", step_map)\n",
    "\n",
    "# Apply the valid transition filter for calculating durations\n",
    "tested['is_valid_transition'] = tested.apply(\n",
    "    lambda x: step_map.get(x['process_step'], -1) + 1 == step_map.get(x['next_process_step'], -1), axis=1)\n",
    "valid_transitions = tested[tested['is_valid_transition']]\n",
    "\n",
    "# Calculate average durations for valid transitions\n",
    "average_durations = valid_transitions.groupby(['process_step', 'next_process_step'])['duration'].mean()\n",
    "\n",
    "# Print results\n",
    "print(\"Average Time Spent from One Step to Next (in hours):\")\n",
    "for index, value in average_durations.items():\n",
    "    print(f\"From {index[0]} to {index[1]}: {value:.2f} hours\")"
   ]
  },
  {
   "cell_type": "code",
   "execution_count": 44,
   "metadata": {},
   "outputs": [
    {
     "name": "stdout",
     "output_type": "stream",
     "text": [
      "Average Duration by Process Step:\n",
      "  process_step  average_duration\n",
      "0        start         19.615221\n",
      "1       step_1          8.867763\n",
      "2       step_2          3.372915\n",
      "3       step_3          7.408274\n",
      "4     verified         87.773669\n",
      "\n",
      "Total average duration for the whole process from start to verified: 79.23 units of time\n"
     ]
    }
   ],
   "source": [
    "# THIS IS IN SECONDS FOR CONTROL\n",
    "\n",
    "# Step 1: Filter clients who have completed the process from start to verified\n",
    "# Group by client_id and visitor_id and check if they have both 'start' and 'verified' steps\n",
    "valid_clients = control.groupby(['client_id', 'visitor_id'])['process_step'].agg(lambda x: set(['start', 'verified']).issubset(set(x)))\n",
    "\n",
    "# Filter the DataFrame for valid clients\n",
    "valid_clients = valid_clients[valid_clients].index\n",
    "filtered_df = control[control.set_index(['client_id', 'visitor_id']).index.isin(valid_clients)].reset_index()\n",
    "\n",
    "# Step 2: Calculate the average duration for each process step\n",
    "average_duration_by_step_1 = filtered_df.groupby('process_step')['duration'].mean().reset_index()\n",
    "average_duration_by_step_1.columns = ['process_step', 'average_duration']\n",
    "\n",
    "# Step 3: Calculate the total average duration for the whole process\n",
    "# Assuming the duration column represents the time taken to move to the next step\n",
    "total_duration_by_client = filtered_df.groupby(['client_id', 'visitor_id'])['duration'].sum().mean()\n",
    "\n",
    "# Display the results\n",
    "print(\"Average Duration by Process Step:\")\n",
    "print(average_duration_by_step_1)\n",
    "print(\"\\nTotal average duration for the whole process from start to verified: {:.2f} units of time\".format(total_duration_by_client))"
   ]
  },
  {
   "cell_type": "code",
   "execution_count": 45,
   "metadata": {},
   "outputs": [
    {
     "data": {
      "image/png": "[encoded data removed]",
      "text/plain": [
       "<Figure size 640x480 with 1 Axes>"
      ]
     },
     "metadata": {},
     "output_type": "display_data"
    }
   ],
   "source": [
    "average_duration_by_step_1.set_index('process_step', inplace=True)\n",
    "\n",
    "# Plotting the bar chart\n",
    "average_duration_by_step_1.plot(kind='bar', color='red')\n",
    "plt.title(\"Average Duration by Process Step - Control\")\n",
    "plt.xlabel(\"Process Step\")\n",
    "plt.ylabel(\"Average Duration\")\n",
    "plt.xticks(rotation=45)  # Rotate x-axis labels for better readability\n",
    "plt.show()"
   ]
  },
  {
   "cell_type": "code",
   "execution_count": 46,
   "metadata": {},
   "outputs": [
    {
     "name": "stdout",
     "output_type": "stream",
     "text": [
      "Average Duration by Process Step:\n",
      "  process_step  average_duration\n",
      "0        start         15.030075\n",
      "1       step_1          5.384352\n",
      "2       step_2          2.227117\n",
      "3       step_3          3.706426\n",
      "4     verified         85.423748\n",
      "\n",
      "Total average duration for the whole process from start to verified: 71.31 units of time\n"
     ]
    }
   ],
   "source": [
    "# THIS IS SECONDS FOR TESTED\n",
    "\n",
    "# Step 1: Filter clients who have completed the process from start to verified\n",
    "# Group by client_id and visitor_id and check if they have both 'start' and 'verified' steps\n",
    "valid_clients_test = tested.groupby(['client_id', 'visitor_id'])['process_step'].agg(lambda x: set(['start', 'verified']).issubset(set(x)))\n",
    "\n",
    "# Filter the DataFrame for valid clients\n",
    "valid_clients_test = valid_clients_test[valid_clients_test].index\n",
    "filtered_df = tested[tested.set_index(['client_id', 'visitor_id']).index.isin(valid_clients_test)].reset_index()\n",
    "\n",
    "# Step 2: Calculate the average duration for each process step\n",
    "average_duration_by_step_2 = filtered_df.groupby('process_step')['duration'].mean().reset_index()\n",
    "average_duration_by_step_2.columns = ['process_step', 'average_duration']\n",
    "\n",
    "# Step 3: Calculate the total average duration for the whole process\n",
    "# Assuming the duration column represents the time taken to move to the next step\n",
    "total_duration_by_client = filtered_df.groupby(['client_id', 'visitor_id'])['duration'].sum().mean()\n",
    "\n",
    "# Display the results\n",
    "print(\"Average Duration by Process Step:\")\n",
    "print(average_duration_by_step_2)\n",
    "print(\"\\nTotal average duration for the whole process from start to verified: {:.2f} units of time\".format(total_duration_by_client))"
   ]
  },
  {
   "cell_type": "code",
   "execution_count": 47,
   "metadata": {},
   "outputs": [
    {
     "data": {
      "image/png": "[encoded data removed]",
      "text/plain": [
       "<Figure size 640x480 with 1 Axes>"
      ]
     },
     "metadata": {},
     "output_type": "display_data"
    }
   ],
   "source": [
    "average_duration_by_step_2.set_index('process_step', inplace=True)\n",
    "\n",
    "# Plotting the bar chart\n",
    "average_duration_by_step_2.plot(kind='bar', color='pink')\n",
    "plt.title(\"Average Duration by Process Step - Tested\")\n",
    "plt.xlabel(\"Process Step\")\n",
    "plt.ylabel(\"Average Duration\")\n",
    "plt.xticks(rotation=45)  # Rotate x-axis labels for better readability\n",
    "plt.show()"
   ]
  },
  {
   "cell_type": "markdown",
   "metadata": {},
   "source": [
    "## **Error Rates: If there’s a step where users go back to a previous step, it may indicate confusion or an error.**"
   ]
  },
  {
   "cell_type": "code",
   "execution_count": 48,
   "metadata": {},
   "outputs": [
    {
     "name": "stdout",
     "output_type": "stream",
     "text": [
      "\n",
      "Error Rate (proportion of transitions that are errors):\n",
      "25.90%\n"
     ]
    },
    {
     "name": "stderr",
     "output_type": "stream",
     "text": [
      "/var/folders/mg/fz6127296bzcnc_rxkv52kvm0000gn/T/ipykernel_6840/311591563.py:3: SettingWithCopyWarning: \n",
      "A value is trying to be set on a copy of a slice from a DataFrame.\n",
      "Try using .loc[row_indexer,col_indexer] = value instead\n",
      "\n",
      "See the caveats in the documentation: https://pandas.pydata.org/pandas-docs/stable/user_guide/indexing.html#returning-a-view-versus-a-copy\n",
      "  tested['is_error_transition'] = tested.apply(\n"
     ]
    }
   ],
   "source": [
    "# Calculate error rates based on backward movements for Tested Group \n",
    "\n",
    "tested['is_error_transition'] = tested.apply(\n",
    "    lambda x: step_map.get(x['process_step'], -1) > step_map.get(x['next_process_step'], -1), axis=1)\n",
    "error_counts = tested[tested['is_error_transition']]\n",
    "error_rate = error_counts.shape[0] / tested.shape[0]\n",
    "\n",
    "print(\"\\nError Rate (proportion of transitions that are errors):\")\n",
    "print(f\"{error_rate:.2%}\")"
   ]
  },
  {
   "cell_type": "code",
   "execution_count": 49,
   "metadata": {},
   "outputs": [
    {
     "name": "stdout",
     "output_type": "stream",
     "text": [
      "\n",
      "Error Rate (proportion of transitions that are errors):\n",
      "25.70%\n"
     ]
    },
    {
     "name": "stderr",
     "output_type": "stream",
     "text": [
      "/var/folders/mg/fz6127296bzcnc_rxkv52kvm0000gn/T/ipykernel_6840/1761969695.py:3: SettingWithCopyWarning: \n",
      "A value is trying to be set on a copy of a slice from a DataFrame.\n",
      "Try using .loc[row_indexer,col_indexer] = value instead\n",
      "\n",
      "See the caveats in the documentation: https://pandas.pydata.org/pandas-docs/stable/user_guide/indexing.html#returning-a-view-versus-a-copy\n",
      "  control['is_error_transition'] = control.apply(\n"
     ]
    }
   ],
   "source": [
    "# Calculate error rates based on backward movements for Control Group\n",
    "\n",
    "control['is_error_transition'] = control.apply(\n",
    "    lambda x: step_map.get(x['process_step'], -1) > step_map.get(x['next_process_step'], -1), axis=1)\n",
    "error_counts = control[control['is_error_transition']]\n",
    "error_rate = error_counts.shape[0] / control.shape[0]\n",
    "\n",
    "print(\"\\nError Rate (proportion of transitions that are errors):\")\n",
    "print(f\"{error_rate:.2%}\")"
   ]
  },
  {
   "cell_type": "markdown",
   "metadata": {},
   "source": [
    "## **Step Completion Rates - Step Completion Rates: Calculate the completion rates for each step of the process separately. This will help identify any specific steps where users are experiencing difficulties or drop-offs.**"
   ]
  },
  {
   "cell_type": "code",
   "execution_count": 50,
   "metadata": {},
   "outputs": [],
   "source": [
    "# Convert date_time column to datetime format\n",
    "total['date_time'] = pd.to_datetime(total['date_time'])"
   ]
  },
  {
   "cell_type": "code",
   "execution_count": 51,
   "metadata": {},
   "outputs": [],
   "source": [
    "# # Calculate the total number of unique visitors who started the process\n",
    "# total_unique_visitors = total['visitor_id'].nunique()\n",
    "# # Group by process step and calculate the completion rate for each step\n",
    "# step_completion_rate = total.groupby('process_step').apply(lambda x: (x['visitor_id'].nunique() / total_unique_visitors) * 100)\n",
    "# # Print the completion rate for each step\n",
    "# print(\"Step Completion Rate:\")\n",
    "# print(step_completion_rate)"
   ]
  },
  {
   "cell_type": "code",
   "execution_count": 52,
   "metadata": {},
   "outputs": [
    {
     "name": "stdout",
     "output_type": "stream",
     "text": [
      "Control - Step Completion Rate:\n",
      "process_step\n",
      "start       98.60\n",
      "step_1      80.81\n",
      "step_2      72.93\n",
      "step_3      67.36\n",
      "verified    59.24\n",
      "dtype: float64\n"
     ]
    }
   ],
   "source": [
    "# Calculate the total number of unique visitors who started the process for Control \n",
    "\n",
    "control_unique_visitors = control['visitor_id'].nunique()\n",
    "# Group by process step and calculate the completion rate for each step\n",
    "control_step_completion_rate = control.groupby('process_step').apply(lambda x: (x['visitor_id'].nunique() / control_unique_visitors) * 100)\n",
    "# Rounding rate \n",
    "control_step_completion_rate = round(control_step_completion_rate, 2)\n",
    "# Print the completion rate for each step\n",
    "print(\"Control - Step Completion Rate:\")\n",
    "print(control_step_completion_rate)"
   ]
  },
  {
   "cell_type": "code",
   "execution_count": 53,
   "metadata": {},
   "outputs": [
    {
     "name": "stdout",
     "output_type": "stream",
     "text": [
      "Test - Step Completion Rate:\n",
      "process_step\n",
      "start       96.05\n",
      "step_1      85.41\n",
      "step_2      76.80\n",
      "step_3      71.09\n",
      "verified    65.19\n",
      "dtype: float64\n"
     ]
    }
   ],
   "source": [
    "# Calculate the total number of unique visitors who started the process for Tested\n",
    "\n",
    "tested_unique_visitors = tested['visitor_id'].nunique()\n",
    "# Group by process step and calculate the completion rate for each step\n",
    "test_step_completion_rate = tested.groupby('process_step').apply(lambda x: (x['visitor_id'].nunique() / tested_unique_visitors) * 100)\n",
    "#rounding rate \n",
    "test_step_completion_rate = round(test_step_completion_rate, 2)\n",
    "# Print the completion rate for each step\n",
    "print(\"Test - Step Completion Rate:\")\n",
    "print(test_step_completion_rate)"
   ]
  },
  {
   "cell_type": "code",
   "execution_count": 54,
   "metadata": {},
   "outputs": [
    {
     "data": {
      "text/plain": [
       "Text(0.5, 1.0, 'Step Completion Rate - Control')"
      ]
     },
     "execution_count": 54,
     "metadata": {},
     "output_type": "execute_result"
    },
    {
     "data": {
      "image/png": "[encoded data removed]",
      "text/plain": [
       "<Figure size 640x480 with 1 Axes>"
      ]
     },
     "metadata": {},
     "output_type": "display_data"
    }
   ],
   "source": [
    "control_step_completion_rate.plot(kind=\"bar\", stacked=False, color='lightblue')\n",
    "plt.title(\"Step Completion Rate - Control\")"
   ]
  },
  {
   "cell_type": "code",
   "execution_count": 55,
   "metadata": {},
   "outputs": [
    {
     "data": {
      "text/plain": [
       "Text(0.5, 1.0, 'Step Completion Rate - Tested')"
      ]
     },
     "execution_count": 55,
     "metadata": {},
     "output_type": "execute_result"
    },
    {
     "data": {
      "image/png": "[encoded data removed]",
      "text/plain": [
       "<Figure size 640x480 with 1 Axes>"
      ]
     },
     "metadata": {},
     "output_type": "display_data"
    }
   ],
   "source": [
    "test_step_completion_rate.plot(kind=\"bar\", stacked=False, color='blue')\n",
    "plt.title(\"Step Completion Rate - Tested\")"
   ]
  },
  {
   "cell_type": "markdown",
   "metadata": {},
   "source": [
    "Bounce Rate - The percentage of users who navigate away from the website after viewing only one page. A high bounce rate may indicate that the UI is not engaging or intuitive enough to hold users' attention."
   ]
  },
  {
   "cell_type": "code",
   "execution_count": 56,
   "metadata": {},
   "outputs": [],
   "source": [
    "# Identify visitors who visited the \"start\" step but did not visit any subsequent steps for Total\n",
    "\n",
    "#bounce_visitors = total[total['process_step'] == 'start']['visitor_id'].unique()\n",
    "#for step in total['process_step'].unique():\n",
    "    #if step != 'start':\n",
    "        #bounce_visitors = np.setdiff1d(bounce_visitors, total[total['process_step'] == step]['visitor_id'].unique())\n",
    "# Calculate the bounce rate\n",
    "#bounce_rate = (len(bounce_visitors) / total_unique_visitors) * 100\n",
    "# Print the bounce rate\n",
    "#print(\"Bounce Rate: {:.2f}%\".format(bounce_rate))"
   ]
  },
  {
   "cell_type": "code",
   "execution_count": 57,
   "metadata": {},
   "outputs": [
    {
     "name": "stdout",
     "output_type": "stream",
     "text": [
      "Control - Bounce Rate: 18.02%\n"
     ]
    }
   ],
   "source": [
    "# Identify visitors who visited the \"start\" step but did not visit any subsequent steps for Control\n",
    "\n",
    "control_bounce_visitors = control[control['process_step'] == 'start']['visitor_id'].unique()\n",
    "for step in control['process_step'].unique():\n",
    "    if step != 'start':\n",
    "        control_bounce_visitors = np.setdiff1d(control_bounce_visitors, control[control['process_step'] == step]['visitor_id'].unique())\n",
    "# Calculate the bounce rate\n",
    "control_bounce_rate = (len(control_bounce_visitors) / control_unique_visitors) * 100\n",
    "#Rounding rate \n",
    "control_bounce_rate = round(control_bounce_rate, 2)\n",
    "# Print the bounce rate\n",
    "print(\"Control - Bounce Rate: {:.2f}%\".format(control_bounce_rate))"
   ]
  },
  {
   "cell_type": "code",
   "execution_count": 58,
   "metadata": {},
   "outputs": [
    {
     "name": "stdout",
     "output_type": "stream",
     "text": [
      "Test - Bounce Rate: 10.81%\n"
     ]
    }
   ],
   "source": [
    "# Identify visitors who visited the \"start\" step but did not visit any subsequent steps for Tested\n",
    "\n",
    "test_bounce_visitors = tested[tested['process_step'] == 'start']['visitor_id'].unique()\n",
    "for step in tested['process_step'].unique():\n",
    "    if step != 'start':\n",
    "        test_bounce_visitors = np.setdiff1d(test_bounce_visitors, tested[tested['process_step'] == step]['visitor_id'].unique())\n",
    "# Calculate the bounce rate\n",
    "test_bounce_rate = (len(test_bounce_visitors) / tested_unique_visitors) * 100\n",
    "#Rounding rate \n",
    "test_bounce_rate = round(test_bounce_rate, 2)\n",
    "# Print the bounce rate\n",
    "print(\"Test - Bounce Rate: {:.2f}%\".format(test_bounce_rate))"
   ]
  },
  {
   "cell_type": "code",
   "execution_count": 59,
   "metadata": {},
   "outputs": [],
   "source": [
    "total.to_csv('total_df.csv', index=False)"
   ]
  },
  {
   "cell_type": "markdown",
   "metadata": {},
   "source": [
    "## **Completion Rate: Account Balance**"
   ]
  },
  {
   "cell_type": "code",
   "execution_count": 60,
   "metadata": {},
   "outputs": [
    {
     "name": "stdout",
     "output_type": "stream",
     "text": [
      "147446.72652817518\n",
      "63334.59\n",
      "0.25     37346.5975\n",
      "0.50     63334.5900\n",
      "0.75    137546.1175\n",
      "Name: balance, dtype: float64\n",
      "16320040.15\n"
     ]
    }
   ],
   "source": [
    "# Calculate completion rate of all steps for clients in the process steps dataframe\n",
    "total_clients_control = len(control['client_id'].unique())\n",
    "completed_all_steps_control = len(control.groupby(['client_id', 'visitor_id']).filter(lambda x: set(['start', 'verified']).issubset(set(x['process_step']))))\n",
    "completion_rate_control = completed_all_steps_control / total_clients_control\n",
    "# Analyze distribution of account balances in the account balances dataframe\n",
    "mean_balance = df['balance'].mean()\n",
    "median_balance = df['balance'].median()\n",
    "quartiles_balance = df['balance'].quantile([0.25, 0.5, 0.75])\n",
    "max_balance = df['balance'].max()\n",
    "print(mean_balance)\n",
    "print(median_balance) \n",
    "print(quartiles_balance)\n",
    "print(max_balance)"
   ]
  },
  {
   "cell_type": "code",
   "execution_count": 61,
   "metadata": {},
   "outputs": [
    {
     "name": "stdout",
     "output_type": "stream",
     "text": [
      "Control - Completion Rate for High Balance Clients: 2.220182446597541\n",
      "Control - Completion Rate for Low Balance Clients: 1.968533383700066\n"
     ]
    }
   ],
   "source": [
    "# Compare completion rate based on account balances\n",
    "high_balance_clients = df[df['balance'] > 137546]\n",
    "low_balance_clients = df[df['balance'] <= 137545]\n",
    "# Calculate completion rate for high and low balance clients\n",
    "high_balance_completion_rate = len(control[control['client_id'].isin(high_balance_clients['client_id'])]) / len(high_balance_clients)\n",
    "low_balance_completion_rate = len(control[control['client_id'].isin(low_balance_clients['client_id'])]) / len(low_balance_clients)\n",
    "# Compare the completion rates\n",
    "print(\"Control - Completion Rate for High Balance Clients:\", high_balance_completion_rate)\n",
    "print(\"Control - Completion Rate for Low Balance Clients:\", low_balance_completion_rate)"
   ]
  },
  {
   "cell_type": "code",
   "execution_count": 62,
   "metadata": {},
   "outputs": [],
   "source": [
    "# Calculate completion rate of all steps for clients in the process steps dataframe\n",
    "total_clients_test = len(tested['client_id'].unique())\n",
    "completed_all_steps_tested = len(tested.groupby(['client_id', 'visitor_id']).filter(lambda x: set(['start', 'verified']).issubset(set(x['process_step']))))\n",
    "completion_rate_tested = completed_all_steps_tested / total_clients_test"
   ]
  },
  {
   "cell_type": "code",
   "execution_count": 63,
   "metadata": {},
   "outputs": [
    {
     "name": "stdout",
     "output_type": "stream",
     "text": [
      "Completion Rate for High Balance Clients: 2.7872400702589384\n",
      "Completion Rate for Low Balance Clients: 2.4288412503541412\n"
     ]
    }
   ],
   "source": [
    "# Compare completion rate based on account balances\n",
    "high_balance_test = df[df['balance'] > 137546]\n",
    "low_balance_test = df[df['balance'] <= 137545]\n",
    "# Calculate completion rate for high and low balance clients\n",
    "high_balance_completion_rate_test = len(tested[tested['client_id'].isin(high_balance_test['client_id'])]) / len(high_balance_test)\n",
    "low_balance_completion_rate_test = len(tested[tested['client_id'].isin(low_balance_test['client_id'])]) / len(low_balance_test)\n",
    "# Compare the completion rates\n",
    "print(\"Completion Rate for High Balance Clients:\", high_balance_completion_rate_test)\n",
    "print(\"Completion Rate for Low Balance Clients:\", low_balance_completion_rate_test)"
   ]
  },
  {
   "cell_type": "code",
   "execution_count": 64,
   "metadata": {},
   "outputs": [],
   "source": [
    "#Creating dataframe that includes 'balance' along with digital footprint information\n",
    "merged_df = pd.merge(df, total, on='client_id', how='inner')\n",
    "merged_df = merged_df.drop(columns=['client_yr_tenure', 'client_mo_tenure', 'client_age',\n",
    "       'gender', 'num_accts', 'calls_6m', 'logins_6m', 'age_group'])"
   ]
  },
  {
   "cell_type": "code",
   "execution_count": 65,
   "metadata": {},
   "outputs": [],
   "source": [
    "# Filter for rows where the process_step is 'verified'\n",
    "verified_df = merged_df[merged_df['process_step'] == 'verified']"
   ]
  },
  {
   "cell_type": "code",
   "execution_count": 66,
   "metadata": {},
   "outputs": [],
   "source": [
    "#Creating balance threshold based on top 75th percentile of account balances \n",
    "balance_threshold = 137546"
   ]
  },
  {
   "cell_type": "code",
   "execution_count": 67,
   "metadata": {},
   "outputs": [
    {
     "name": "stderr",
     "output_type": "stream",
     "text": [
      "/var/folders/mg/fz6127296bzcnc_rxkv52kvm0000gn/T/ipykernel_6840/3205729116.py:2: SettingWithCopyWarning: \n",
      "A value is trying to be set on a copy of a slice from a DataFrame.\n",
      "Try using .loc[row_indexer,col_indexer] = value instead\n",
      "\n",
      "See the caveats in the documentation: https://pandas.pydata.org/pandas-docs/stable/user_guide/indexing.html#returning-a-view-versus-a-copy\n",
      "  verified_df['balance_class'] = verified_df['balance'].apply(lambda x: 'High' if x > balance_threshold else 'Low')\n"
     ]
    }
   ],
   "source": [
    "#Creating new column that classes rows according to high or low balance \n",
    "verified_df['balance_class'] = verified_df['balance'].apply(lambda x: 'High' if x > balance_threshold else 'Low')"
   ]
  },
  {
   "cell_type": "code",
   "execution_count": 68,
   "metadata": {},
   "outputs": [],
   "source": [
    "# Group by 'balance_class' and count unique 'client_id'\n",
    "grouped = verified_df.groupby('balance_class').agg(num_verified_clients=('client_id', 'nunique')).reset_index()"
   ]
  },
  {
   "cell_type": "code",
   "execution_count": 69,
   "metadata": {},
   "outputs": [
    {
     "data": {
      "text/html": [
       "<div>\n",
       "<style scoped>\n",
       "    .dataframe tbody tr th:only-of-type {\n",
       "        vertical-align: middle;\n",
       "    }\n",
       "\n",
       "    .dataframe tbody tr th {\n",
       "        vertical-align: top;\n",
       "    }\n",
       "\n",
       "    .dataframe thead th {\n",
       "        text-align: right;\n",
       "    }\n",
       "</style>\n",
       "<table border=\"1\" class=\"dataframe\">\n",
       "  <thead>\n",
       "    <tr style=\"text-align: right;\">\n",
       "      <th>balance_class</th>\n",
       "      <th>High</th>\n",
       "      <th>Low</th>\n",
       "    </tr>\n",
       "    <tr>\n",
       "      <th>Variation</th>\n",
       "      <th></th>\n",
       "      <th></th>\n",
       "    </tr>\n",
       "  </thead>\n",
       "  <tbody>\n",
       "    <tr>\n",
       "      <th>Control</th>\n",
       "      <td>4779</td>\n",
       "      <td>12719</td>\n",
       "    </tr>\n",
       "    <tr>\n",
       "      <th>Test</th>\n",
       "      <td>7496</td>\n",
       "      <td>18220</td>\n",
       "    </tr>\n",
       "  </tbody>\n",
       "</table>\n",
       "</div>"
      ],
      "text/plain": [
       "balance_class  High    Low\n",
       "Variation                 \n",
       "Control        4779  12719\n",
       "Test           7496  18220"
      ]
     },
     "execution_count": 69,
     "metadata": {},
     "output_type": "execute_result"
    }
   ],
   "source": [
    "crosstab_result_balance = pd.crosstab(verified_df['Variation'], verified_df['balance_class'])\n",
    "crosstab_result_balance"
   ]
  },
  {
   "cell_type": "code",
   "execution_count": 70,
   "metadata": {},
   "outputs": [
    {
     "data": {
      "text/plain": [
       "(17.197234825103287, 3.369264185404865e-05)"
      ]
     },
     "execution_count": 70,
     "metadata": {},
     "output_type": "execute_result"
    }
   ],
   "source": [
    "from scipy.stats import chi2_contingency\n",
    "#Doing a Chi-squared test on the crosstab to see statistical significance of account balance with completion \n",
    "\n",
    "chi2_statistic, chi2_p_value, _, _ = chi2_contingency(crosstab_result_balance)\n",
    "chi2_statistic, chi2_p_value"
   ]
  },
  {
   "cell_type": "markdown",
   "metadata": {},
   "source": [
    "## **KPI's**"
   ]
  },
  {
   "cell_type": "code",
   "execution_count": 71,
   "metadata": {},
   "outputs": [
    {
     "data": {
      "text/html": [
       "<div>\n",
       "<style scoped>\n",
       "    .dataframe tbody tr th:only-of-type {\n",
       "        vertical-align: middle;\n",
       "    }\n",
       "\n",
       "    .dataframe tbody tr th {\n",
       "        vertical-align: top;\n",
       "    }\n",
       "\n",
       "    .dataframe thead th {\n",
       "        text-align: right;\n",
       "    }\n",
       "</style>\n",
       "<table border=\"1\" class=\"dataframe\">\n",
       "  <thead>\n",
       "    <tr style=\"text-align: right;\">\n",
       "      <th></th>\n",
       "      <th>process_step</th>\n",
       "      <th>average_duration</th>\n",
       "      <th>total_duration</th>\n",
       "      <th>Completion Rate High Balance</th>\n",
       "      <th>Completion Rate Low Balance</th>\n",
       "      <th>Bounce Rate</th>\n",
       "      <th>Error Rate</th>\n",
       "      <th>group</th>\n",
       "    </tr>\n",
       "  </thead>\n",
       "  <tbody>\n",
       "    <tr>\n",
       "      <th>0</th>\n",
       "      <td>start</td>\n",
       "      <td>19.615221</td>\n",
       "      <td>87.773669</td>\n",
       "      <td>2.220182</td>\n",
       "      <td>1.968533</td>\n",
       "      <td>18.02</td>\n",
       "      <td>25.7</td>\n",
       "      <td>Control</td>\n",
       "    </tr>\n",
       "    <tr>\n",
       "      <th>1</th>\n",
       "      <td>step_1</td>\n",
       "      <td>8.867763</td>\n",
       "      <td>87.773669</td>\n",
       "      <td>2.220182</td>\n",
       "      <td>1.968533</td>\n",
       "      <td>18.02</td>\n",
       "      <td>25.7</td>\n",
       "      <td>Control</td>\n",
       "    </tr>\n",
       "    <tr>\n",
       "      <th>2</th>\n",
       "      <td>step_2</td>\n",
       "      <td>3.372915</td>\n",
       "      <td>87.773669</td>\n",
       "      <td>2.220182</td>\n",
       "      <td>1.968533</td>\n",
       "      <td>18.02</td>\n",
       "      <td>25.7</td>\n",
       "      <td>Control</td>\n",
       "    </tr>\n",
       "    <tr>\n",
       "      <th>3</th>\n",
       "      <td>step_3</td>\n",
       "      <td>7.408274</td>\n",
       "      <td>87.773669</td>\n",
       "      <td>2.220182</td>\n",
       "      <td>1.968533</td>\n",
       "      <td>18.02</td>\n",
       "      <td>25.7</td>\n",
       "      <td>Control</td>\n",
       "    </tr>\n",
       "    <tr>\n",
       "      <th>4</th>\n",
       "      <td>verified</td>\n",
       "      <td>87.773669</td>\n",
       "      <td>87.773669</td>\n",
       "      <td>2.220182</td>\n",
       "      <td>1.968533</td>\n",
       "      <td>18.02</td>\n",
       "      <td>25.7</td>\n",
       "      <td>Control</td>\n",
       "    </tr>\n",
       "    <tr>\n",
       "      <th>5</th>\n",
       "      <td>start</td>\n",
       "      <td>17.070567</td>\n",
       "      <td>86.269390</td>\n",
       "      <td>2.787240</td>\n",
       "      <td>2.428841</td>\n",
       "      <td>10.81</td>\n",
       "      <td>25.9</td>\n",
       "      <td>Test</td>\n",
       "    </tr>\n",
       "    <tr>\n",
       "      <th>6</th>\n",
       "      <td>step_1</td>\n",
       "      <td>6.881706</td>\n",
       "      <td>86.269390</td>\n",
       "      <td>2.787240</td>\n",
       "      <td>2.428841</td>\n",
       "      <td>10.81</td>\n",
       "      <td>25.9</td>\n",
       "      <td>Test</td>\n",
       "    </tr>\n",
       "    <tr>\n",
       "      <th>7</th>\n",
       "      <td>step_2</td>\n",
       "      <td>2.757191</td>\n",
       "      <td>86.269390</td>\n",
       "      <td>2.787240</td>\n",
       "      <td>2.428841</td>\n",
       "      <td>10.81</td>\n",
       "      <td>25.9</td>\n",
       "      <td>Test</td>\n",
       "    </tr>\n",
       "    <tr>\n",
       "      <th>8</th>\n",
       "      <td>step_3</td>\n",
       "      <td>5.453728</td>\n",
       "      <td>86.269390</td>\n",
       "      <td>2.787240</td>\n",
       "      <td>2.428841</td>\n",
       "      <td>10.81</td>\n",
       "      <td>25.9</td>\n",
       "      <td>Test</td>\n",
       "    </tr>\n",
       "    <tr>\n",
       "      <th>9</th>\n",
       "      <td>verified</td>\n",
       "      <td>86.269390</td>\n",
       "      <td>86.269390</td>\n",
       "      <td>2.787240</td>\n",
       "      <td>2.428841</td>\n",
       "      <td>10.81</td>\n",
       "      <td>25.9</td>\n",
       "      <td>Test</td>\n",
       "    </tr>\n",
       "  </tbody>\n",
       "</table>\n",
       "</div>"
      ],
      "text/plain": [
       "  process_step  average_duration  total_duration  \\\n",
       "0        start         19.615221       87.773669   \n",
       "1       step_1          8.867763       87.773669   \n",
       "2       step_2          3.372915       87.773669   \n",
       "3       step_3          7.408274       87.773669   \n",
       "4     verified         87.773669       87.773669   \n",
       "5        start         17.070567       86.269390   \n",
       "6       step_1          6.881706       86.269390   \n",
       "7       step_2          2.757191       86.269390   \n",
       "8       step_3          5.453728       86.269390   \n",
       "9     verified         86.269390       86.269390   \n",
       "\n",
       "   Completion Rate High Balance  Completion Rate Low Balance  Bounce Rate  \\\n",
       "0                      2.220182                     1.968533        18.02   \n",
       "1                      2.220182                     1.968533        18.02   \n",
       "2                      2.220182                     1.968533        18.02   \n",
       "3                      2.220182                     1.968533        18.02   \n",
       "4                      2.220182                     1.968533        18.02   \n",
       "5                      2.787240                     2.428841        10.81   \n",
       "6                      2.787240                     2.428841        10.81   \n",
       "7                      2.787240                     2.428841        10.81   \n",
       "8                      2.787240                     2.428841        10.81   \n",
       "9                      2.787240                     2.428841        10.81   \n",
       "\n",
       "   Error Rate    group  \n",
       "0        25.7  Control  \n",
       "1        25.7  Control  \n",
       "2        25.7  Control  \n",
       "3        25.7  Control  \n",
       "4        25.7  Control  \n",
       "5        25.9     Test  \n",
       "6        25.9     Test  \n",
       "7        25.9     Test  \n",
       "8        25.9     Test  \n",
       "9        25.9     Test  "
      ]
     },
     "execution_count": 71,
     "metadata": {},
     "output_type": "execute_result"
    }
   ],
   "source": [
    "# Example results (assuming you've calculated these previously)\n",
    "data_control = {\n",
    "    'process_step': ['start', 'step_1', 'step_2', 'step_3', 'verified'],\n",
    "    'average_duration': [19.615221, 8.867763, 3.372915, 7.408274, 87.773669],\n",
    "    'total_duration': [87.773669] * 5  # Repeating the total duration for simplicity\n",
    "}\n",
    "data_test = {\n",
    "    'process_step': ['start', 'step_1', 'step_2', 'step_3', 'verified'],\n",
    "    'average_duration': [17.070567, 6.881706, 2.757191, 5.453728, 86.269390],\n",
    "    'total_duration': [86.269390] * 5  # Repeating the total duration for simplicity\n",
    "}\n",
    "# Creating DataFrames\n",
    "df_control = pd.DataFrame(data_control)\n",
    "df_test = pd.DataFrame(data_test)\n",
    "# Adding specific metrics\n",
    "# Control metrics\n",
    "df_control['Completion Rate High Balance'] = 2.220182446597541\n",
    "df_control['Completion Rate Low Balance'] = 1.968533383700066\n",
    "df_control['Bounce Rate'] = 18.02  # Example, use actual value if different\n",
    "df_control['Error Rate'] = 25.70   # Example, use actual value if different\n",
    "# Test metrics - Now using the new values provided\n",
    "df_test['Completion Rate High Balance'] = 2.7872400702589384\n",
    "df_test['Completion Rate Low Balance'] = 2.4288412503541412\n",
    "df_test['Bounce Rate'] = 10.81  # Example, use actual value if different\n",
    "df_test['Error Rate'] = 25.90   # Example, use actual value if different\n",
    "# Adding a column to distinguish between control and test\n",
    "df_control['group'] = 'Control'\n",
    "df_test['group'] = 'Test'\n",
    "# Combining the data\n",
    "df_combined = pd.concat([df_control, df_test], ignore_index=True)\n",
    "# Display the combined DataFrame\n",
    "df_combined"
   ]
  },
  {
   "cell_type": "code",
   "execution_count": 72,
   "metadata": {},
   "outputs": [],
   "source": [
    "df_combined.to_csv('combined_data.csv', index=False)"
   ]
  }
 ],
 "metadata": {
  "kernelspec": {
   "display_name": "base",
   "language": "python",
   "name": "python3"
  },
  "language_info": {
   "codemirror_mode": {
    "name": "ipython",
    "version": 3
   },
   "file_extension": ".py",
   "mimetype": "text/x-python",
   "name": "python",
   "nbconvert_exporter": "python",
   "pygments_lexer": "ipython3",
   "version": "3.11.7"
  }
 },
 "nbformat": 4,
 "nbformat_minor": 2
}
